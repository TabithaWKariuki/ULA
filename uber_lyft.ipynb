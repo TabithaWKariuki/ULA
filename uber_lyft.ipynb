{
  "nbformat": 4,
  "nbformat_minor": 0,
  "metadata": {
    "colab": {
      "name": "uber_lyft.ipynb",
      "provenance": [],
      "collapsed_sections": [],
      "include_colab_link": true
    },
    "kernelspec": {
      "name": "python3",
      "display_name": "Python 3"
    },
    "language_info": {
      "name": "python"
    }
  },
  "cells": [
    {
      "cell_type": "markdown",
      "metadata": {
        "id": "view-in-github",
        "colab_type": "text"
      },
      "source": [
        "<a href=\"https://colab.research.google.com/github/TabithaWKariuki/ULA/blob/main/uber_lyft.ipynb\" target=\"_parent\"><img src=\"https://colab.research.google.com/assets/colab-badge.svg\" alt=\"Open In Colab\"/></a>"
      ]
    },
    {
      "cell_type": "markdown",
      "source": [
        "### **Loading and understanding the data**"
      ],
      "metadata": {
        "id": "OfpLkJjBiguf"
      }
    },
    {
      "cell_type": "code",
      "source": [
        "# Importing the libraries; pandas, numpy, matplotlib and seaborn\n",
        "\n",
        "import pandas as pd\n",
        "import numpy as np\n",
        "import matplotlib.pyplot as plt\n",
        "import seaborn as sns"
      ],
      "metadata": {
        "id": "KGvKOX9Ta8bS"
      },
      "execution_count": null,
      "outputs": []
    },
    {
      "cell_type": "code",
      "source": [
        "# from google.colab import drive\n",
        "# drive.mount('/content/drive')\n"
      ],
      "metadata": {
        "id": "VQmo9pNcn5fa"
      },
      "execution_count": null,
      "outputs": []
    },
    {
      "cell_type": "code",
      "source": [
        "# cabfile = '/content/drive/MyDrive/cab_rides.csv'"
      ],
      "metadata": {
        "id": "pgLU8PzYoX52"
      },
      "execution_count": null,
      "outputs": []
    },
    {
      "cell_type": "code",
      "source": [
        "#loading and previewing the data\n",
        "df_rides = pd.read_csv('cab_rides.csv')\n",
        "#df_rides = pd.read_csv(cabfile)\n",
        "df_rides.head()"
      ],
      "metadata": {
        "colab": {
          "base_uri": "https://localhost:8080/",
          "height": 337
        },
        "id": "z5VfHYrqc2Y2",
        "outputId": "4e5cd930-92de-4de8-c073-ce7042764223"
      },
      "execution_count": null,
      "outputs": [
        {
          "output_type": "execute_result",
          "data": {
            "text/plain": [
              "   distance cab_type     time_stamp    destination            source  price  \\\n",
              "0      0.44     Lyft  1544952607890  North Station  Haymarket Square    5.0   \n",
              "1      0.44     Lyft  1543284023677  North Station  Haymarket Square   11.0   \n",
              "2      0.44     Lyft  1543366822198  North Station  Haymarket Square    7.0   \n",
              "3      0.44     Lyft  1543553582749  North Station  Haymarket Square   26.0   \n",
              "4      0.44     Lyft  1543463360223  North Station  Haymarket Square    9.0   \n",
              "\n",
              "   surge_multiplier                                    id    product_id  \\\n",
              "0               1.0  424553bb-7174-41ea-aeb4-fe06d4f4b9d7     lyft_line   \n",
              "1               1.0  4bd23055-6827-41c6-b23b-3c491f24e74d  lyft_premier   \n",
              "2               1.0  981a3613-77af-4620-a42a-0c0866077d1e          lyft   \n",
              "3               1.0  c2d88af2-d278-4bfd-a8d0-29ca77cc5512   lyft_luxsuv   \n",
              "4               1.0  e0126e1f-8ca9-4f2e-82b3-50505a09db9a     lyft_plus   \n",
              "\n",
              "           name  \n",
              "0        Shared  \n",
              "1           Lux  \n",
              "2          Lyft  \n",
              "3  Lux Black XL  \n",
              "4       Lyft XL  "
            ],
            "text/html": [
              "\n",
              "  <div id=\"df-a14819c4-af25-4565-9234-9d5dd0810731\">\n",
              "    <div class=\"colab-df-container\">\n",
              "      <div>\n",
              "<style scoped>\n",
              "    .dataframe tbody tr th:only-of-type {\n",
              "        vertical-align: middle;\n",
              "    }\n",
              "\n",
              "    .dataframe tbody tr th {\n",
              "        vertical-align: top;\n",
              "    }\n",
              "\n",
              "    .dataframe thead th {\n",
              "        text-align: right;\n",
              "    }\n",
              "</style>\n",
              "<table border=\"1\" class=\"dataframe\">\n",
              "  <thead>\n",
              "    <tr style=\"text-align: right;\">\n",
              "      <th></th>\n",
              "      <th>distance</th>\n",
              "      <th>cab_type</th>\n",
              "      <th>time_stamp</th>\n",
              "      <th>destination</th>\n",
              "      <th>source</th>\n",
              "      <th>price</th>\n",
              "      <th>surge_multiplier</th>\n",
              "      <th>id</th>\n",
              "      <th>product_id</th>\n",
              "      <th>name</th>\n",
              "    </tr>\n",
              "  </thead>\n",
              "  <tbody>\n",
              "    <tr>\n",
              "      <th>0</th>\n",
              "      <td>0.44</td>\n",
              "      <td>Lyft</td>\n",
              "      <td>1544952607890</td>\n",
              "      <td>North Station</td>\n",
              "      <td>Haymarket Square</td>\n",
              "      <td>5.0</td>\n",
              "      <td>1.0</td>\n",
              "      <td>424553bb-7174-41ea-aeb4-fe06d4f4b9d7</td>\n",
              "      <td>lyft_line</td>\n",
              "      <td>Shared</td>\n",
              "    </tr>\n",
              "    <tr>\n",
              "      <th>1</th>\n",
              "      <td>0.44</td>\n",
              "      <td>Lyft</td>\n",
              "      <td>1543284023677</td>\n",
              "      <td>North Station</td>\n",
              "      <td>Haymarket Square</td>\n",
              "      <td>11.0</td>\n",
              "      <td>1.0</td>\n",
              "      <td>4bd23055-6827-41c6-b23b-3c491f24e74d</td>\n",
              "      <td>lyft_premier</td>\n",
              "      <td>Lux</td>\n",
              "    </tr>\n",
              "    <tr>\n",
              "      <th>2</th>\n",
              "      <td>0.44</td>\n",
              "      <td>Lyft</td>\n",
              "      <td>1543366822198</td>\n",
              "      <td>North Station</td>\n",
              "      <td>Haymarket Square</td>\n",
              "      <td>7.0</td>\n",
              "      <td>1.0</td>\n",
              "      <td>981a3613-77af-4620-a42a-0c0866077d1e</td>\n",
              "      <td>lyft</td>\n",
              "      <td>Lyft</td>\n",
              "    </tr>\n",
              "    <tr>\n",
              "      <th>3</th>\n",
              "      <td>0.44</td>\n",
              "      <td>Lyft</td>\n",
              "      <td>1543553582749</td>\n",
              "      <td>North Station</td>\n",
              "      <td>Haymarket Square</td>\n",
              "      <td>26.0</td>\n",
              "      <td>1.0</td>\n",
              "      <td>c2d88af2-d278-4bfd-a8d0-29ca77cc5512</td>\n",
              "      <td>lyft_luxsuv</td>\n",
              "      <td>Lux Black XL</td>\n",
              "    </tr>\n",
              "    <tr>\n",
              "      <th>4</th>\n",
              "      <td>0.44</td>\n",
              "      <td>Lyft</td>\n",
              "      <td>1543463360223</td>\n",
              "      <td>North Station</td>\n",
              "      <td>Haymarket Square</td>\n",
              "      <td>9.0</td>\n",
              "      <td>1.0</td>\n",
              "      <td>e0126e1f-8ca9-4f2e-82b3-50505a09db9a</td>\n",
              "      <td>lyft_plus</td>\n",
              "      <td>Lyft XL</td>\n",
              "    </tr>\n",
              "  </tbody>\n",
              "</table>\n",
              "</div>\n",
              "      <button class=\"colab-df-convert\" onclick=\"convertToInteractive('df-a14819c4-af25-4565-9234-9d5dd0810731')\"\n",
              "              title=\"Convert this dataframe to an interactive table.\"\n",
              "              style=\"display:none;\">\n",
              "        \n",
              "  <svg xmlns=\"http://www.w3.org/2000/svg\" height=\"24px\"viewBox=\"0 0 24 24\"\n",
              "       width=\"24px\">\n",
              "    <path d=\"M0 0h24v24H0V0z\" fill=\"none\"/>\n",
              "    <path d=\"M18.56 5.44l.94 2.06.94-2.06 2.06-.94-2.06-.94-.94-2.06-.94 2.06-2.06.94zm-11 1L8.5 8.5l.94-2.06 2.06-.94-2.06-.94L8.5 2.5l-.94 2.06-2.06.94zm10 10l.94 2.06.94-2.06 2.06-.94-2.06-.94-.94-2.06-.94 2.06-2.06.94z\"/><path d=\"M17.41 7.96l-1.37-1.37c-.4-.4-.92-.59-1.43-.59-.52 0-1.04.2-1.43.59L10.3 9.45l-7.72 7.72c-.78.78-.78 2.05 0 2.83L4 21.41c.39.39.9.59 1.41.59.51 0 1.02-.2 1.41-.59l7.78-7.78 2.81-2.81c.8-.78.8-2.07 0-2.86zM5.41 20L4 18.59l7.72-7.72 1.47 1.35L5.41 20z\"/>\n",
              "  </svg>\n",
              "      </button>\n",
              "      \n",
              "  <style>\n",
              "    .colab-df-container {\n",
              "      display:flex;\n",
              "      flex-wrap:wrap;\n",
              "      gap: 12px;\n",
              "    }\n",
              "\n",
              "    .colab-df-convert {\n",
              "      background-color: #E8F0FE;\n",
              "      border: none;\n",
              "      border-radius: 50%;\n",
              "      cursor: pointer;\n",
              "      display: none;\n",
              "      fill: #1967D2;\n",
              "      height: 32px;\n",
              "      padding: 0 0 0 0;\n",
              "      width: 32px;\n",
              "    }\n",
              "\n",
              "    .colab-df-convert:hover {\n",
              "      background-color: #E2EBFA;\n",
              "      box-shadow: 0px 1px 2px rgba(60, 64, 67, 0.3), 0px 1px 3px 1px rgba(60, 64, 67, 0.15);\n",
              "      fill: #174EA6;\n",
              "    }\n",
              "\n",
              "    [theme=dark] .colab-df-convert {\n",
              "      background-color: #3B4455;\n",
              "      fill: #D2E3FC;\n",
              "    }\n",
              "\n",
              "    [theme=dark] .colab-df-convert:hover {\n",
              "      background-color: #434B5C;\n",
              "      box-shadow: 0px 1px 3px 1px rgba(0, 0, 0, 0.15);\n",
              "      filter: drop-shadow(0px 1px 2px rgba(0, 0, 0, 0.3));\n",
              "      fill: #FFFFFF;\n",
              "    }\n",
              "  </style>\n",
              "\n",
              "      <script>\n",
              "        const buttonEl =\n",
              "          document.querySelector('#df-a14819c4-af25-4565-9234-9d5dd0810731 button.colab-df-convert');\n",
              "        buttonEl.style.display =\n",
              "          google.colab.kernel.accessAllowed ? 'block' : 'none';\n",
              "\n",
              "        async function convertToInteractive(key) {\n",
              "          const element = document.querySelector('#df-a14819c4-af25-4565-9234-9d5dd0810731');\n",
              "          const dataTable =\n",
              "            await google.colab.kernel.invokeFunction('convertToInteractive',\n",
              "                                                     [key], {});\n",
              "          if (!dataTable) return;\n",
              "\n",
              "          const docLinkHtml = 'Like what you see? Visit the ' +\n",
              "            '<a target=\"_blank\" href=https://colab.research.google.com/notebooks/data_table.ipynb>data table notebook</a>'\n",
              "            + ' to learn more about interactive tables.';\n",
              "          element.innerHTML = '';\n",
              "          dataTable['output_type'] = 'display_data';\n",
              "          await google.colab.output.renderOutput(dataTable, element);\n",
              "          const docLink = document.createElement('div');\n",
              "          docLink.innerHTML = docLinkHtml;\n",
              "          element.appendChild(docLink);\n",
              "        }\n",
              "      </script>\n",
              "    </div>\n",
              "  </div>\n",
              "  "
            ]
          },
          "metadata": {},
          "execution_count": 10
        }
      ]
    },
    {
      "cell_type": "code",
      "source": [
        "# Accessing the dataset's information\n",
        "\n",
        "df_rides.info()"
      ],
      "metadata": {
        "colab": {
          "base_uri": "https://localhost:8080/"
        },
        "id": "JImAKBkNhcuJ",
        "outputId": "584e2a73-cc6e-494d-b8ae-9cbe68d72d2b"
      },
      "execution_count": null,
      "outputs": [
        {
          "output_type": "stream",
          "name": "stdout",
          "text": [
            "<class 'pandas.core.frame.DataFrame'>\n",
            "RangeIndex: 693071 entries, 0 to 693070\n",
            "Data columns (total 10 columns):\n",
            " #   Column            Non-Null Count   Dtype  \n",
            "---  ------            --------------   -----  \n",
            " 0   distance          693071 non-null  float64\n",
            " 1   cab_type          693071 non-null  object \n",
            " 2   time_stamp        693071 non-null  int64  \n",
            " 3   destination       693071 non-null  object \n",
            " 4   source            693071 non-null  object \n",
            " 5   price             637976 non-null  float64\n",
            " 6   surge_multiplier  693071 non-null  float64\n",
            " 7   id                693071 non-null  object \n",
            " 8   product_id        693071 non-null  object \n",
            " 9   name              693071 non-null  object \n",
            "dtypes: float64(3), int64(1), object(6)\n",
            "memory usage: 52.9+ MB\n"
          ]
        }
      ]
    },
    {
      "cell_type": "markdown",
      "source": [
        "### **Data Preparation**"
      ],
      "metadata": {
        "id": "OTIc-w7cidXx"
      }
    },
    {
      "cell_type": "code",
      "source": [
        "# Data Cleaning Action: Dropping the id column\n",
        "# Explanation: it is not needed for the analysis\n",
        "\n",
        "df_rides.drop(\"id\", axis = 1, inplace=True)\n",
        "df_rides.head(20)"
      ],
      "metadata": {
        "colab": {
          "base_uri": "https://localhost:8080/",
          "height": 1000
        },
        "id": "ofvypSj2h5ZP",
        "outputId": "9d882a53-9fda-457a-ba82-86e1d551b592"
      },
      "execution_count": null,
      "outputs": [
        {
          "output_type": "execute_result",
          "data": {
            "text/plain": [
              "    distance cab_type     time_stamp              destination  \\\n",
              "0       0.44     Lyft  1544952607890            North Station   \n",
              "1       0.44     Lyft  1543284023677            North Station   \n",
              "2       0.44     Lyft  1543366822198            North Station   \n",
              "3       0.44     Lyft  1543553582749            North Station   \n",
              "4       0.44     Lyft  1543463360223            North Station   \n",
              "5       0.44     Lyft  1545071112138            North Station   \n",
              "6       1.08     Lyft  1543208580200  Northeastern University   \n",
              "7       1.08     Lyft  1543780384677  Northeastern University   \n",
              "8       1.08     Lyft  1543818482645  Northeastern University   \n",
              "9       1.08     Lyft  1543315522249  Northeastern University   \n",
              "10      1.08     Lyft  1543594383882  Northeastern University   \n",
              "11      1.08     Lyft  1543432987778  Northeastern University   \n",
              "12      1.11     Uber  1543615981179                 West End   \n",
              "13      1.11     Uber  1544698211014                 West End   \n",
              "14      1.11     Uber  1544728503935                 West End   \n",
              "15      1.11     Uber  1545004511430                 West End   \n",
              "16      1.11     Uber  1544748007961                 West End   \n",
              "17      1.11     Uber  1543519080802                 West End   \n",
              "18      1.11     Uber  1543673584211                 West End   \n",
              "19      0.72     Lyft  1544940911553         Haymarket Square   \n",
              "\n",
              "              source  price  surge_multiplier  \\\n",
              "0   Haymarket Square    5.0               1.0   \n",
              "1   Haymarket Square   11.0               1.0   \n",
              "2   Haymarket Square    7.0               1.0   \n",
              "3   Haymarket Square   26.0               1.0   \n",
              "4   Haymarket Square    9.0               1.0   \n",
              "5   Haymarket Square   16.5               1.0   \n",
              "6           Back Bay   10.5               1.0   \n",
              "7           Back Bay   16.5               1.0   \n",
              "8           Back Bay    3.0               1.0   \n",
              "9           Back Bay   27.5               1.0   \n",
              "10          Back Bay   13.5               1.0   \n",
              "11          Back Bay    7.0               1.0   \n",
              "12         North End   12.0               1.0   \n",
              "13         North End   16.0               1.0   \n",
              "14         North End    7.5               1.0   \n",
              "15         North End    7.5               1.0   \n",
              "16         North End   26.0               1.0   \n",
              "17         North End    5.5               1.0   \n",
              "18         North End    NaN               1.0   \n",
              "19     North Station   11.0               1.0   \n",
              "\n",
              "                              product_id          name  \n",
              "0                              lyft_line        Shared  \n",
              "1                           lyft_premier           Lux  \n",
              "2                                   lyft          Lyft  \n",
              "3                            lyft_luxsuv  Lux Black XL  \n",
              "4                              lyft_plus       Lyft XL  \n",
              "5                               lyft_lux     Lux Black  \n",
              "6                              lyft_plus       Lyft XL  \n",
              "7                               lyft_lux     Lux Black  \n",
              "8                              lyft_line        Shared  \n",
              "9                            lyft_luxsuv  Lux Black XL  \n",
              "10                          lyft_premier           Lux  \n",
              "11                                  lyft          Lyft  \n",
              "12  6f72dfc5-27f1-42e8-84db-ccc7a75f6969        UberXL  \n",
              "13  6c84fd89-3f11-4782-9b50-97c468b19529         Black  \n",
              "14  55c66225-fbe7-4fd5-9072-eab1ece5e23e         UberX  \n",
              "15  9a0e7b09-b92b-4c41-9779-2ad22b4d779d           WAV  \n",
              "16  6d318bcc-22a3-4af6-bddd-b409bfce1546     Black SUV  \n",
              "17  997acbb5-e102-41e1-b155-9df7de0a73f2      UberPool  \n",
              "18  8cf7e821-f0d3-49c6-8eba-e679c0ebcf6a          Taxi  \n",
              "19                             lyft_plus       Lyft XL  "
            ],
            "text/html": [
              "\n",
              "  <div id=\"df-4f28765d-5c09-4cf1-9d1d-25e239c6898d\">\n",
              "    <div class=\"colab-df-container\">\n",
              "      <div>\n",
              "<style scoped>\n",
              "    .dataframe tbody tr th:only-of-type {\n",
              "        vertical-align: middle;\n",
              "    }\n",
              "\n",
              "    .dataframe tbody tr th {\n",
              "        vertical-align: top;\n",
              "    }\n",
              "\n",
              "    .dataframe thead th {\n",
              "        text-align: right;\n",
              "    }\n",
              "</style>\n",
              "<table border=\"1\" class=\"dataframe\">\n",
              "  <thead>\n",
              "    <tr style=\"text-align: right;\">\n",
              "      <th></th>\n",
              "      <th>distance</th>\n",
              "      <th>cab_type</th>\n",
              "      <th>time_stamp</th>\n",
              "      <th>destination</th>\n",
              "      <th>source</th>\n",
              "      <th>price</th>\n",
              "      <th>surge_multiplier</th>\n",
              "      <th>product_id</th>\n",
              "      <th>name</th>\n",
              "    </tr>\n",
              "  </thead>\n",
              "  <tbody>\n",
              "    <tr>\n",
              "      <th>0</th>\n",
              "      <td>0.44</td>\n",
              "      <td>Lyft</td>\n",
              "      <td>1544952607890</td>\n",
              "      <td>North Station</td>\n",
              "      <td>Haymarket Square</td>\n",
              "      <td>5.0</td>\n",
              "      <td>1.0</td>\n",
              "      <td>lyft_line</td>\n",
              "      <td>Shared</td>\n",
              "    </tr>\n",
              "    <tr>\n",
              "      <th>1</th>\n",
              "      <td>0.44</td>\n",
              "      <td>Lyft</td>\n",
              "      <td>1543284023677</td>\n",
              "      <td>North Station</td>\n",
              "      <td>Haymarket Square</td>\n",
              "      <td>11.0</td>\n",
              "      <td>1.0</td>\n",
              "      <td>lyft_premier</td>\n",
              "      <td>Lux</td>\n",
              "    </tr>\n",
              "    <tr>\n",
              "      <th>2</th>\n",
              "      <td>0.44</td>\n",
              "      <td>Lyft</td>\n",
              "      <td>1543366822198</td>\n",
              "      <td>North Station</td>\n",
              "      <td>Haymarket Square</td>\n",
              "      <td>7.0</td>\n",
              "      <td>1.0</td>\n",
              "      <td>lyft</td>\n",
              "      <td>Lyft</td>\n",
              "    </tr>\n",
              "    <tr>\n",
              "      <th>3</th>\n",
              "      <td>0.44</td>\n",
              "      <td>Lyft</td>\n",
              "      <td>1543553582749</td>\n",
              "      <td>North Station</td>\n",
              "      <td>Haymarket Square</td>\n",
              "      <td>26.0</td>\n",
              "      <td>1.0</td>\n",
              "      <td>lyft_luxsuv</td>\n",
              "      <td>Lux Black XL</td>\n",
              "    </tr>\n",
              "    <tr>\n",
              "      <th>4</th>\n",
              "      <td>0.44</td>\n",
              "      <td>Lyft</td>\n",
              "      <td>1543463360223</td>\n",
              "      <td>North Station</td>\n",
              "      <td>Haymarket Square</td>\n",
              "      <td>9.0</td>\n",
              "      <td>1.0</td>\n",
              "      <td>lyft_plus</td>\n",
              "      <td>Lyft XL</td>\n",
              "    </tr>\n",
              "    <tr>\n",
              "      <th>5</th>\n",
              "      <td>0.44</td>\n",
              "      <td>Lyft</td>\n",
              "      <td>1545071112138</td>\n",
              "      <td>North Station</td>\n",
              "      <td>Haymarket Square</td>\n",
              "      <td>16.5</td>\n",
              "      <td>1.0</td>\n",
              "      <td>lyft_lux</td>\n",
              "      <td>Lux Black</td>\n",
              "    </tr>\n",
              "    <tr>\n",
              "      <th>6</th>\n",
              "      <td>1.08</td>\n",
              "      <td>Lyft</td>\n",
              "      <td>1543208580200</td>\n",
              "      <td>Northeastern University</td>\n",
              "      <td>Back Bay</td>\n",
              "      <td>10.5</td>\n",
              "      <td>1.0</td>\n",
              "      <td>lyft_plus</td>\n",
              "      <td>Lyft XL</td>\n",
              "    </tr>\n",
              "    <tr>\n",
              "      <th>7</th>\n",
              "      <td>1.08</td>\n",
              "      <td>Lyft</td>\n",
              "      <td>1543780384677</td>\n",
              "      <td>Northeastern University</td>\n",
              "      <td>Back Bay</td>\n",
              "      <td>16.5</td>\n",
              "      <td>1.0</td>\n",
              "      <td>lyft_lux</td>\n",
              "      <td>Lux Black</td>\n",
              "    </tr>\n",
              "    <tr>\n",
              "      <th>8</th>\n",
              "      <td>1.08</td>\n",
              "      <td>Lyft</td>\n",
              "      <td>1543818482645</td>\n",
              "      <td>Northeastern University</td>\n",
              "      <td>Back Bay</td>\n",
              "      <td>3.0</td>\n",
              "      <td>1.0</td>\n",
              "      <td>lyft_line</td>\n",
              "      <td>Shared</td>\n",
              "    </tr>\n",
              "    <tr>\n",
              "      <th>9</th>\n",
              "      <td>1.08</td>\n",
              "      <td>Lyft</td>\n",
              "      <td>1543315522249</td>\n",
              "      <td>Northeastern University</td>\n",
              "      <td>Back Bay</td>\n",
              "      <td>27.5</td>\n",
              "      <td>1.0</td>\n",
              "      <td>lyft_luxsuv</td>\n",
              "      <td>Lux Black XL</td>\n",
              "    </tr>\n",
              "    <tr>\n",
              "      <th>10</th>\n",
              "      <td>1.08</td>\n",
              "      <td>Lyft</td>\n",
              "      <td>1543594383882</td>\n",
              "      <td>Northeastern University</td>\n",
              "      <td>Back Bay</td>\n",
              "      <td>13.5</td>\n",
              "      <td>1.0</td>\n",
              "      <td>lyft_premier</td>\n",
              "      <td>Lux</td>\n",
              "    </tr>\n",
              "    <tr>\n",
              "      <th>11</th>\n",
              "      <td>1.08</td>\n",
              "      <td>Lyft</td>\n",
              "      <td>1543432987778</td>\n",
              "      <td>Northeastern University</td>\n",
              "      <td>Back Bay</td>\n",
              "      <td>7.0</td>\n",
              "      <td>1.0</td>\n",
              "      <td>lyft</td>\n",
              "      <td>Lyft</td>\n",
              "    </tr>\n",
              "    <tr>\n",
              "      <th>12</th>\n",
              "      <td>1.11</td>\n",
              "      <td>Uber</td>\n",
              "      <td>1543615981179</td>\n",
              "      <td>West End</td>\n",
              "      <td>North End</td>\n",
              "      <td>12.0</td>\n",
              "      <td>1.0</td>\n",
              "      <td>6f72dfc5-27f1-42e8-84db-ccc7a75f6969</td>\n",
              "      <td>UberXL</td>\n",
              "    </tr>\n",
              "    <tr>\n",
              "      <th>13</th>\n",
              "      <td>1.11</td>\n",
              "      <td>Uber</td>\n",
              "      <td>1544698211014</td>\n",
              "      <td>West End</td>\n",
              "      <td>North End</td>\n",
              "      <td>16.0</td>\n",
              "      <td>1.0</td>\n",
              "      <td>6c84fd89-3f11-4782-9b50-97c468b19529</td>\n",
              "      <td>Black</td>\n",
              "    </tr>\n",
              "    <tr>\n",
              "      <th>14</th>\n",
              "      <td>1.11</td>\n",
              "      <td>Uber</td>\n",
              "      <td>1544728503935</td>\n",
              "      <td>West End</td>\n",
              "      <td>North End</td>\n",
              "      <td>7.5</td>\n",
              "      <td>1.0</td>\n",
              "      <td>55c66225-fbe7-4fd5-9072-eab1ece5e23e</td>\n",
              "      <td>UberX</td>\n",
              "    </tr>\n",
              "    <tr>\n",
              "      <th>15</th>\n",
              "      <td>1.11</td>\n",
              "      <td>Uber</td>\n",
              "      <td>1545004511430</td>\n",
              "      <td>West End</td>\n",
              "      <td>North End</td>\n",
              "      <td>7.5</td>\n",
              "      <td>1.0</td>\n",
              "      <td>9a0e7b09-b92b-4c41-9779-2ad22b4d779d</td>\n",
              "      <td>WAV</td>\n",
              "    </tr>\n",
              "    <tr>\n",
              "      <th>16</th>\n",
              "      <td>1.11</td>\n",
              "      <td>Uber</td>\n",
              "      <td>1544748007961</td>\n",
              "      <td>West End</td>\n",
              "      <td>North End</td>\n",
              "      <td>26.0</td>\n",
              "      <td>1.0</td>\n",
              "      <td>6d318bcc-22a3-4af6-bddd-b409bfce1546</td>\n",
              "      <td>Black SUV</td>\n",
              "    </tr>\n",
              "    <tr>\n",
              "      <th>17</th>\n",
              "      <td>1.11</td>\n",
              "      <td>Uber</td>\n",
              "      <td>1543519080802</td>\n",
              "      <td>West End</td>\n",
              "      <td>North End</td>\n",
              "      <td>5.5</td>\n",
              "      <td>1.0</td>\n",
              "      <td>997acbb5-e102-41e1-b155-9df7de0a73f2</td>\n",
              "      <td>UberPool</td>\n",
              "    </tr>\n",
              "    <tr>\n",
              "      <th>18</th>\n",
              "      <td>1.11</td>\n",
              "      <td>Uber</td>\n",
              "      <td>1543673584211</td>\n",
              "      <td>West End</td>\n",
              "      <td>North End</td>\n",
              "      <td>NaN</td>\n",
              "      <td>1.0</td>\n",
              "      <td>8cf7e821-f0d3-49c6-8eba-e679c0ebcf6a</td>\n",
              "      <td>Taxi</td>\n",
              "    </tr>\n",
              "    <tr>\n",
              "      <th>19</th>\n",
              "      <td>0.72</td>\n",
              "      <td>Lyft</td>\n",
              "      <td>1544940911553</td>\n",
              "      <td>Haymarket Square</td>\n",
              "      <td>North Station</td>\n",
              "      <td>11.0</td>\n",
              "      <td>1.0</td>\n",
              "      <td>lyft_plus</td>\n",
              "      <td>Lyft XL</td>\n",
              "    </tr>\n",
              "  </tbody>\n",
              "</table>\n",
              "</div>\n",
              "      <button class=\"colab-df-convert\" onclick=\"convertToInteractive('df-4f28765d-5c09-4cf1-9d1d-25e239c6898d')\"\n",
              "              title=\"Convert this dataframe to an interactive table.\"\n",
              "              style=\"display:none;\">\n",
              "        \n",
              "  <svg xmlns=\"http://www.w3.org/2000/svg\" height=\"24px\"viewBox=\"0 0 24 24\"\n",
              "       width=\"24px\">\n",
              "    <path d=\"M0 0h24v24H0V0z\" fill=\"none\"/>\n",
              "    <path d=\"M18.56 5.44l.94 2.06.94-2.06 2.06-.94-2.06-.94-.94-2.06-.94 2.06-2.06.94zm-11 1L8.5 8.5l.94-2.06 2.06-.94-2.06-.94L8.5 2.5l-.94 2.06-2.06.94zm10 10l.94 2.06.94-2.06 2.06-.94-2.06-.94-.94-2.06-.94 2.06-2.06.94z\"/><path d=\"M17.41 7.96l-1.37-1.37c-.4-.4-.92-.59-1.43-.59-.52 0-1.04.2-1.43.59L10.3 9.45l-7.72 7.72c-.78.78-.78 2.05 0 2.83L4 21.41c.39.39.9.59 1.41.59.51 0 1.02-.2 1.41-.59l7.78-7.78 2.81-2.81c.8-.78.8-2.07 0-2.86zM5.41 20L4 18.59l7.72-7.72 1.47 1.35L5.41 20z\"/>\n",
              "  </svg>\n",
              "      </button>\n",
              "      \n",
              "  <style>\n",
              "    .colab-df-container {\n",
              "      display:flex;\n",
              "      flex-wrap:wrap;\n",
              "      gap: 12px;\n",
              "    }\n",
              "\n",
              "    .colab-df-convert {\n",
              "      background-color: #E8F0FE;\n",
              "      border: none;\n",
              "      border-radius: 50%;\n",
              "      cursor: pointer;\n",
              "      display: none;\n",
              "      fill: #1967D2;\n",
              "      height: 32px;\n",
              "      padding: 0 0 0 0;\n",
              "      width: 32px;\n",
              "    }\n",
              "\n",
              "    .colab-df-convert:hover {\n",
              "      background-color: #E2EBFA;\n",
              "      box-shadow: 0px 1px 2px rgba(60, 64, 67, 0.3), 0px 1px 3px 1px rgba(60, 64, 67, 0.15);\n",
              "      fill: #174EA6;\n",
              "    }\n",
              "\n",
              "    [theme=dark] .colab-df-convert {\n",
              "      background-color: #3B4455;\n",
              "      fill: #D2E3FC;\n",
              "    }\n",
              "\n",
              "    [theme=dark] .colab-df-convert:hover {\n",
              "      background-color: #434B5C;\n",
              "      box-shadow: 0px 1px 3px 1px rgba(0, 0, 0, 0.15);\n",
              "      filter: drop-shadow(0px 1px 2px rgba(0, 0, 0, 0.3));\n",
              "      fill: #FFFFFF;\n",
              "    }\n",
              "  </style>\n",
              "\n",
              "      <script>\n",
              "        const buttonEl =\n",
              "          document.querySelector('#df-4f28765d-5c09-4cf1-9d1d-25e239c6898d button.colab-df-convert');\n",
              "        buttonEl.style.display =\n",
              "          google.colab.kernel.accessAllowed ? 'block' : 'none';\n",
              "\n",
              "        async function convertToInteractive(key) {\n",
              "          const element = document.querySelector('#df-4f28765d-5c09-4cf1-9d1d-25e239c6898d');\n",
              "          const dataTable =\n",
              "            await google.colab.kernel.invokeFunction('convertToInteractive',\n",
              "                                                     [key], {});\n",
              "          if (!dataTable) return;\n",
              "\n",
              "          const docLinkHtml = 'Like what you see? Visit the ' +\n",
              "            '<a target=\"_blank\" href=https://colab.research.google.com/notebooks/data_table.ipynb>data table notebook</a>'\n",
              "            + ' to learn more about interactive tables.';\n",
              "          element.innerHTML = '';\n",
              "          dataTable['output_type'] = 'display_data';\n",
              "          await google.colab.output.renderOutput(dataTable, element);\n",
              "          const docLink = document.createElement('div');\n",
              "          docLink.innerHTML = docLinkHtml;\n",
              "          element.appendChild(docLink);\n",
              "        }\n",
              "      </script>\n",
              "    </div>\n",
              "  </div>\n",
              "  "
            ]
          },
          "metadata": {},
          "execution_count": 12
        }
      ]
    },
    {
      "cell_type": "code",
      "source": [
        "# Data Cleaning Action: Checking for missing values\n",
        "\n",
        "df_rides.isnull().sum()"
      ],
      "metadata": {
        "id": "QuF3bTBqiWhn",
        "colab": {
          "base_uri": "https://localhost:8080/"
        },
        "outputId": "2bda0754-172a-4ba1-d47a-59760a1e925d"
      },
      "execution_count": null,
      "outputs": [
        {
          "output_type": "execute_result",
          "data": {
            "text/plain": [
              "distance                0\n",
              "cab_type                0\n",
              "time_stamp              0\n",
              "destination             0\n",
              "source                  0\n",
              "price               55095\n",
              "surge_multiplier        0\n",
              "product_id              0\n",
              "name                    0\n",
              "dtype: int64"
            ]
          },
          "metadata": {},
          "execution_count": 13
        }
      ]
    },
    {
      "cell_type": "markdown",
      "source": [
        "The price column has missing values"
      ],
      "metadata": {
        "id": "rA4Vmdapzorl"
      }
    },
    {
      "cell_type": "code",
      "source": [
        "# Data Cleaning Action: Dropping missing values\n",
        "# Explanation: Price is an important factor for analysis which varies based on\n",
        "#multiple factors so the records which do not have the price available are not necessary.\n",
        "\n",
        "\n",
        "df_rides.dropna(subset=[\"price\"], inplace = True)"
      ],
      "metadata": {
        "id": "PBQE-EMizMS6"
      },
      "execution_count": null,
      "outputs": []
    },
    {
      "cell_type": "code",
      "source": [
        "#confirming that rows with price column null have been dropped\n",
        "\n",
        "df_rides.isnull().sum()"
      ],
      "metadata": {
        "colab": {
          "base_uri": "https://localhost:8080/"
        },
        "id": "Q6PXzFxCzbkX",
        "outputId": "b7058726-0991-4d45-9ef8-3a51268fe8aa"
      },
      "execution_count": null,
      "outputs": [
        {
          "output_type": "execute_result",
          "data": {
            "text/plain": [
              "distance            0\n",
              "cab_type            0\n",
              "time_stamp          0\n",
              "destination         0\n",
              "source              0\n",
              "price               0\n",
              "surge_multiplier    0\n",
              "product_id          0\n",
              "name                0\n",
              "dtype: int64"
            ]
          },
          "metadata": {},
          "execution_count": 15
        }
      ]
    },
    {
      "cell_type": "code",
      "source": [
        "#Data Cleaning Action: Checking for duplicate rows\n",
        "\n",
        "df_rides.duplicated().any()"
      ],
      "metadata": {
        "colab": {
          "base_uri": "https://localhost:8080/"
        },
        "id": "4z2WTx0e1Oqi",
        "outputId": "6b748775-b9ce-4f18-fb24-225d5ed90c66"
      },
      "execution_count": null,
      "outputs": [
        {
          "output_type": "execute_result",
          "data": {
            "text/plain": [
              "True"
            ]
          },
          "metadata": {},
          "execution_count": 16
        }
      ]
    },
    {
      "cell_type": "code",
      "source": [
        "#Data Cleaning Action: Dropping duplicates\n",
        "\n",
        "df_rides.drop_duplicates(inplace=True)"
      ],
      "metadata": {
        "id": "um89Dl4c10YF"
      },
      "execution_count": null,
      "outputs": []
    },
    {
      "cell_type": "code",
      "source": [
        "#confirming no duplicates\n",
        "df_rides.duplicated().any()"
      ],
      "metadata": {
        "colab": {
          "base_uri": "https://localhost:8080/"
        },
        "id": "VJCeiCuZ2u5v",
        "outputId": "4e5b26a4-afbd-488d-d2dd-588deb916e06"
      },
      "execution_count": null,
      "outputs": [
        {
          "output_type": "execute_result",
          "data": {
            "text/plain": [
              "False"
            ]
          },
          "metadata": {},
          "execution_count": 18
        }
      ]
    },
    {
      "cell_type": "code",
      "source": [
        "df_rides.head()"
      ],
      "metadata": {
        "colab": {
          "base_uri": "https://localhost:8080/",
          "height": 206
        },
        "id": "SrnqzQkmqzWn",
        "outputId": "322bb343-40b9-4fdc-91db-adb98afc7913"
      },
      "execution_count": null,
      "outputs": [
        {
          "output_type": "execute_result",
          "data": {
            "text/plain": [
              "   distance cab_type     time_stamp    destination            source  price  \\\n",
              "0      0.44     Lyft  1544952607890  North Station  Haymarket Square    5.0   \n",
              "1      0.44     Lyft  1543284023677  North Station  Haymarket Square   11.0   \n",
              "2      0.44     Lyft  1543366822198  North Station  Haymarket Square    7.0   \n",
              "3      0.44     Lyft  1543553582749  North Station  Haymarket Square   26.0   \n",
              "4      0.44     Lyft  1543463360223  North Station  Haymarket Square    9.0   \n",
              "\n",
              "   surge_multiplier    product_id          name  \n",
              "0               1.0     lyft_line        Shared  \n",
              "1               1.0  lyft_premier           Lux  \n",
              "2               1.0          lyft          Lyft  \n",
              "3               1.0   lyft_luxsuv  Lux Black XL  \n",
              "4               1.0     lyft_plus       Lyft XL  "
            ],
            "text/html": [
              "\n",
              "  <div id=\"df-c9999d2f-696c-44d2-bbeb-5bd7e07461f8\">\n",
              "    <div class=\"colab-df-container\">\n",
              "      <div>\n",
              "<style scoped>\n",
              "    .dataframe tbody tr th:only-of-type {\n",
              "        vertical-align: middle;\n",
              "    }\n",
              "\n",
              "    .dataframe tbody tr th {\n",
              "        vertical-align: top;\n",
              "    }\n",
              "\n",
              "    .dataframe thead th {\n",
              "        text-align: right;\n",
              "    }\n",
              "</style>\n",
              "<table border=\"1\" class=\"dataframe\">\n",
              "  <thead>\n",
              "    <tr style=\"text-align: right;\">\n",
              "      <th></th>\n",
              "      <th>distance</th>\n",
              "      <th>cab_type</th>\n",
              "      <th>time_stamp</th>\n",
              "      <th>destination</th>\n",
              "      <th>source</th>\n",
              "      <th>price</th>\n",
              "      <th>surge_multiplier</th>\n",
              "      <th>product_id</th>\n",
              "      <th>name</th>\n",
              "    </tr>\n",
              "  </thead>\n",
              "  <tbody>\n",
              "    <tr>\n",
              "      <th>0</th>\n",
              "      <td>0.44</td>\n",
              "      <td>Lyft</td>\n",
              "      <td>1544952607890</td>\n",
              "      <td>North Station</td>\n",
              "      <td>Haymarket Square</td>\n",
              "      <td>5.0</td>\n",
              "      <td>1.0</td>\n",
              "      <td>lyft_line</td>\n",
              "      <td>Shared</td>\n",
              "    </tr>\n",
              "    <tr>\n",
              "      <th>1</th>\n",
              "      <td>0.44</td>\n",
              "      <td>Lyft</td>\n",
              "      <td>1543284023677</td>\n",
              "      <td>North Station</td>\n",
              "      <td>Haymarket Square</td>\n",
              "      <td>11.0</td>\n",
              "      <td>1.0</td>\n",
              "      <td>lyft_premier</td>\n",
              "      <td>Lux</td>\n",
              "    </tr>\n",
              "    <tr>\n",
              "      <th>2</th>\n",
              "      <td>0.44</td>\n",
              "      <td>Lyft</td>\n",
              "      <td>1543366822198</td>\n",
              "      <td>North Station</td>\n",
              "      <td>Haymarket Square</td>\n",
              "      <td>7.0</td>\n",
              "      <td>1.0</td>\n",
              "      <td>lyft</td>\n",
              "      <td>Lyft</td>\n",
              "    </tr>\n",
              "    <tr>\n",
              "      <th>3</th>\n",
              "      <td>0.44</td>\n",
              "      <td>Lyft</td>\n",
              "      <td>1543553582749</td>\n",
              "      <td>North Station</td>\n",
              "      <td>Haymarket Square</td>\n",
              "      <td>26.0</td>\n",
              "      <td>1.0</td>\n",
              "      <td>lyft_luxsuv</td>\n",
              "      <td>Lux Black XL</td>\n",
              "    </tr>\n",
              "    <tr>\n",
              "      <th>4</th>\n",
              "      <td>0.44</td>\n",
              "      <td>Lyft</td>\n",
              "      <td>1543463360223</td>\n",
              "      <td>North Station</td>\n",
              "      <td>Haymarket Square</td>\n",
              "      <td>9.0</td>\n",
              "      <td>1.0</td>\n",
              "      <td>lyft_plus</td>\n",
              "      <td>Lyft XL</td>\n",
              "    </tr>\n",
              "  </tbody>\n",
              "</table>\n",
              "</div>\n",
              "      <button class=\"colab-df-convert\" onclick=\"convertToInteractive('df-c9999d2f-696c-44d2-bbeb-5bd7e07461f8')\"\n",
              "              title=\"Convert this dataframe to an interactive table.\"\n",
              "              style=\"display:none;\">\n",
              "        \n",
              "  <svg xmlns=\"http://www.w3.org/2000/svg\" height=\"24px\"viewBox=\"0 0 24 24\"\n",
              "       width=\"24px\">\n",
              "    <path d=\"M0 0h24v24H0V0z\" fill=\"none\"/>\n",
              "    <path d=\"M18.56 5.44l.94 2.06.94-2.06 2.06-.94-2.06-.94-.94-2.06-.94 2.06-2.06.94zm-11 1L8.5 8.5l.94-2.06 2.06-.94-2.06-.94L8.5 2.5l-.94 2.06-2.06.94zm10 10l.94 2.06.94-2.06 2.06-.94-2.06-.94-.94-2.06-.94 2.06-2.06.94z\"/><path d=\"M17.41 7.96l-1.37-1.37c-.4-.4-.92-.59-1.43-.59-.52 0-1.04.2-1.43.59L10.3 9.45l-7.72 7.72c-.78.78-.78 2.05 0 2.83L4 21.41c.39.39.9.59 1.41.59.51 0 1.02-.2 1.41-.59l7.78-7.78 2.81-2.81c.8-.78.8-2.07 0-2.86zM5.41 20L4 18.59l7.72-7.72 1.47 1.35L5.41 20z\"/>\n",
              "  </svg>\n",
              "      </button>\n",
              "      \n",
              "  <style>\n",
              "    .colab-df-container {\n",
              "      display:flex;\n",
              "      flex-wrap:wrap;\n",
              "      gap: 12px;\n",
              "    }\n",
              "\n",
              "    .colab-df-convert {\n",
              "      background-color: #E8F0FE;\n",
              "      border: none;\n",
              "      border-radius: 50%;\n",
              "      cursor: pointer;\n",
              "      display: none;\n",
              "      fill: #1967D2;\n",
              "      height: 32px;\n",
              "      padding: 0 0 0 0;\n",
              "      width: 32px;\n",
              "    }\n",
              "\n",
              "    .colab-df-convert:hover {\n",
              "      background-color: #E2EBFA;\n",
              "      box-shadow: 0px 1px 2px rgba(60, 64, 67, 0.3), 0px 1px 3px 1px rgba(60, 64, 67, 0.15);\n",
              "      fill: #174EA6;\n",
              "    }\n",
              "\n",
              "    [theme=dark] .colab-df-convert {\n",
              "      background-color: #3B4455;\n",
              "      fill: #D2E3FC;\n",
              "    }\n",
              "\n",
              "    [theme=dark] .colab-df-convert:hover {\n",
              "      background-color: #434B5C;\n",
              "      box-shadow: 0px 1px 3px 1px rgba(0, 0, 0, 0.15);\n",
              "      filter: drop-shadow(0px 1px 2px rgba(0, 0, 0, 0.3));\n",
              "      fill: #FFFFFF;\n",
              "    }\n",
              "  </style>\n",
              "\n",
              "      <script>\n",
              "        const buttonEl =\n",
              "          document.querySelector('#df-c9999d2f-696c-44d2-bbeb-5bd7e07461f8 button.colab-df-convert');\n",
              "        buttonEl.style.display =\n",
              "          google.colab.kernel.accessAllowed ? 'block' : 'none';\n",
              "\n",
              "        async function convertToInteractive(key) {\n",
              "          const element = document.querySelector('#df-c9999d2f-696c-44d2-bbeb-5bd7e07461f8');\n",
              "          const dataTable =\n",
              "            await google.colab.kernel.invokeFunction('convertToInteractive',\n",
              "                                                     [key], {});\n",
              "          if (!dataTable) return;\n",
              "\n",
              "          const docLinkHtml = 'Like what you see? Visit the ' +\n",
              "            '<a target=\"_blank\" href=https://colab.research.google.com/notebooks/data_table.ipynb>data table notebook</a>'\n",
              "            + ' to learn more about interactive tables.';\n",
              "          element.innerHTML = '';\n",
              "          dataTable['output_type'] = 'display_data';\n",
              "          await google.colab.output.renderOutput(dataTable, element);\n",
              "          const docLink = document.createElement('div');\n",
              "          docLink.innerHTML = docLinkHtml;\n",
              "          element.appendChild(docLink);\n",
              "        }\n",
              "      </script>\n",
              "    </div>\n",
              "  </div>\n",
              "  "
            ]
          },
          "metadata": {},
          "execution_count": 19
        }
      ]
    },
    {
      "cell_type": "code",
      "source": [
        "#Data Cleaning Action: Converting from epoch time format to datetime to better understand the time column. \n",
        "from datetime import datetime\n",
        "\n",
        "df_rides['time_stamp'] = df_rides.time_stamp.apply(lambda x: datetime.fromtimestamp(x/1000))\n",
        "df_rides.head(2)"
      ],
      "metadata": {
        "id": "A554e7R-iV2i",
        "colab": {
          "base_uri": "https://localhost:8080/",
          "height": 112
        },
        "outputId": "05897820-3964-41f7-c84a-3451faf62a4f"
      },
      "execution_count": null,
      "outputs": [
        {
          "output_type": "execute_result",
          "data": {
            "text/plain": [
              "   distance cab_type              time_stamp    destination            source  \\\n",
              "0      0.44     Lyft 2018-12-16 09:30:07.890  North Station  Haymarket Square   \n",
              "1      0.44     Lyft 2018-11-27 02:00:23.677  North Station  Haymarket Square   \n",
              "\n",
              "   price  surge_multiplier    product_id    name  \n",
              "0    5.0               1.0     lyft_line  Shared  \n",
              "1   11.0               1.0  lyft_premier     Lux  "
            ],
            "text/html": [
              "\n",
              "  <div id=\"df-fc144736-973c-4519-b435-9f68ce810dfc\">\n",
              "    <div class=\"colab-df-container\">\n",
              "      <div>\n",
              "<style scoped>\n",
              "    .dataframe tbody tr th:only-of-type {\n",
              "        vertical-align: middle;\n",
              "    }\n",
              "\n",
              "    .dataframe tbody tr th {\n",
              "        vertical-align: top;\n",
              "    }\n",
              "\n",
              "    .dataframe thead th {\n",
              "        text-align: right;\n",
              "    }\n",
              "</style>\n",
              "<table border=\"1\" class=\"dataframe\">\n",
              "  <thead>\n",
              "    <tr style=\"text-align: right;\">\n",
              "      <th></th>\n",
              "      <th>distance</th>\n",
              "      <th>cab_type</th>\n",
              "      <th>time_stamp</th>\n",
              "      <th>destination</th>\n",
              "      <th>source</th>\n",
              "      <th>price</th>\n",
              "      <th>surge_multiplier</th>\n",
              "      <th>product_id</th>\n",
              "      <th>name</th>\n",
              "    </tr>\n",
              "  </thead>\n",
              "  <tbody>\n",
              "    <tr>\n",
              "      <th>0</th>\n",
              "      <td>0.44</td>\n",
              "      <td>Lyft</td>\n",
              "      <td>2018-12-16 09:30:07.890</td>\n",
              "      <td>North Station</td>\n",
              "      <td>Haymarket Square</td>\n",
              "      <td>5.0</td>\n",
              "      <td>1.0</td>\n",
              "      <td>lyft_line</td>\n",
              "      <td>Shared</td>\n",
              "    </tr>\n",
              "    <tr>\n",
              "      <th>1</th>\n",
              "      <td>0.44</td>\n",
              "      <td>Lyft</td>\n",
              "      <td>2018-11-27 02:00:23.677</td>\n",
              "      <td>North Station</td>\n",
              "      <td>Haymarket Square</td>\n",
              "      <td>11.0</td>\n",
              "      <td>1.0</td>\n",
              "      <td>lyft_premier</td>\n",
              "      <td>Lux</td>\n",
              "    </tr>\n",
              "  </tbody>\n",
              "</table>\n",
              "</div>\n",
              "      <button class=\"colab-df-convert\" onclick=\"convertToInteractive('df-fc144736-973c-4519-b435-9f68ce810dfc')\"\n",
              "              title=\"Convert this dataframe to an interactive table.\"\n",
              "              style=\"display:none;\">\n",
              "        \n",
              "  <svg xmlns=\"http://www.w3.org/2000/svg\" height=\"24px\"viewBox=\"0 0 24 24\"\n",
              "       width=\"24px\">\n",
              "    <path d=\"M0 0h24v24H0V0z\" fill=\"none\"/>\n",
              "    <path d=\"M18.56 5.44l.94 2.06.94-2.06 2.06-.94-2.06-.94-.94-2.06-.94 2.06-2.06.94zm-11 1L8.5 8.5l.94-2.06 2.06-.94-2.06-.94L8.5 2.5l-.94 2.06-2.06.94zm10 10l.94 2.06.94-2.06 2.06-.94-2.06-.94-.94-2.06-.94 2.06-2.06.94z\"/><path d=\"M17.41 7.96l-1.37-1.37c-.4-.4-.92-.59-1.43-.59-.52 0-1.04.2-1.43.59L10.3 9.45l-7.72 7.72c-.78.78-.78 2.05 0 2.83L4 21.41c.39.39.9.59 1.41.59.51 0 1.02-.2 1.41-.59l7.78-7.78 2.81-2.81c.8-.78.8-2.07 0-2.86zM5.41 20L4 18.59l7.72-7.72 1.47 1.35L5.41 20z\"/>\n",
              "  </svg>\n",
              "      </button>\n",
              "      \n",
              "  <style>\n",
              "    .colab-df-container {\n",
              "      display:flex;\n",
              "      flex-wrap:wrap;\n",
              "      gap: 12px;\n",
              "    }\n",
              "\n",
              "    .colab-df-convert {\n",
              "      background-color: #E8F0FE;\n",
              "      border: none;\n",
              "      border-radius: 50%;\n",
              "      cursor: pointer;\n",
              "      display: none;\n",
              "      fill: #1967D2;\n",
              "      height: 32px;\n",
              "      padding: 0 0 0 0;\n",
              "      width: 32px;\n",
              "    }\n",
              "\n",
              "    .colab-df-convert:hover {\n",
              "      background-color: #E2EBFA;\n",
              "      box-shadow: 0px 1px 2px rgba(60, 64, 67, 0.3), 0px 1px 3px 1px rgba(60, 64, 67, 0.15);\n",
              "      fill: #174EA6;\n",
              "    }\n",
              "\n",
              "    [theme=dark] .colab-df-convert {\n",
              "      background-color: #3B4455;\n",
              "      fill: #D2E3FC;\n",
              "    }\n",
              "\n",
              "    [theme=dark] .colab-df-convert:hover {\n",
              "      background-color: #434B5C;\n",
              "      box-shadow: 0px 1px 3px 1px rgba(0, 0, 0, 0.15);\n",
              "      filter: drop-shadow(0px 1px 2px rgba(0, 0, 0, 0.3));\n",
              "      fill: #FFFFFF;\n",
              "    }\n",
              "  </style>\n",
              "\n",
              "      <script>\n",
              "        const buttonEl =\n",
              "          document.querySelector('#df-fc144736-973c-4519-b435-9f68ce810dfc button.colab-df-convert');\n",
              "        buttonEl.style.display =\n",
              "          google.colab.kernel.accessAllowed ? 'block' : 'none';\n",
              "\n",
              "        async function convertToInteractive(key) {\n",
              "          const element = document.querySelector('#df-fc144736-973c-4519-b435-9f68ce810dfc');\n",
              "          const dataTable =\n",
              "            await google.colab.kernel.invokeFunction('convertToInteractive',\n",
              "                                                     [key], {});\n",
              "          if (!dataTable) return;\n",
              "\n",
              "          const docLinkHtml = 'Like what you see? Visit the ' +\n",
              "            '<a target=\"_blank\" href=https://colab.research.google.com/notebooks/data_table.ipynb>data table notebook</a>'\n",
              "            + ' to learn more about interactive tables.';\n",
              "          element.innerHTML = '';\n",
              "          dataTable['output_type'] = 'display_data';\n",
              "          await google.colab.output.renderOutput(dataTable, element);\n",
              "          const docLink = document.createElement('div');\n",
              "          docLink.innerHTML = docLinkHtml;\n",
              "          element.appendChild(docLink);\n",
              "        }\n",
              "      </script>\n",
              "    </div>\n",
              "  </div>\n",
              "  "
            ]
          },
          "metadata": {},
          "execution_count": 20
        }
      ]
    },
    {
      "cell_type": "code",
      "source": [
        "#separating the date and time components to make analysis easier\n",
        "\n",
        "\n",
        "df_rides['date_only'] = df_rides['time_stamp'].dt.date\n",
        "df_rides['time_only'] = df_rides['time_stamp'].dt.time\n",
        "\n",
        "#df_rides.drop('time_stamp', axis=1, inplace=True)\n",
        "df_rides.head(2)"
      ],
      "metadata": {
        "colab": {
          "base_uri": "https://localhost:8080/",
          "height": 211
        },
        "id": "BplQsvaC7lOh",
        "outputId": "4d152022-8c1b-418c-e83e-652942d7a1a5"
      },
      "execution_count": null,
      "outputs": [
        {
          "output_type": "execute_result",
          "data": {
            "text/plain": [
              "   distance cab_type              time_stamp    destination            source  \\\n",
              "0      0.44     Lyft 2018-12-16 09:30:07.890  North Station  Haymarket Square   \n",
              "1      0.44     Lyft 2018-11-27 02:00:23.677  North Station  Haymarket Square   \n",
              "\n",
              "   price  surge_multiplier    product_id    name   date_only        time_only  \n",
              "0    5.0               1.0     lyft_line  Shared  2018-12-16  09:30:07.890000  \n",
              "1   11.0               1.0  lyft_premier     Lux  2018-11-27  02:00:23.677000  "
            ],
            "text/html": [
              "\n",
              "  <div id=\"df-de0c5ca7-ef01-4664-8f81-d47121b44f4d\">\n",
              "    <div class=\"colab-df-container\">\n",
              "      <div>\n",
              "<style scoped>\n",
              "    .dataframe tbody tr th:only-of-type {\n",
              "        vertical-align: middle;\n",
              "    }\n",
              "\n",
              "    .dataframe tbody tr th {\n",
              "        vertical-align: top;\n",
              "    }\n",
              "\n",
              "    .dataframe thead th {\n",
              "        text-align: right;\n",
              "    }\n",
              "</style>\n",
              "<table border=\"1\" class=\"dataframe\">\n",
              "  <thead>\n",
              "    <tr style=\"text-align: right;\">\n",
              "      <th></th>\n",
              "      <th>distance</th>\n",
              "      <th>cab_type</th>\n",
              "      <th>time_stamp</th>\n",
              "      <th>destination</th>\n",
              "      <th>source</th>\n",
              "      <th>price</th>\n",
              "      <th>surge_multiplier</th>\n",
              "      <th>product_id</th>\n",
              "      <th>name</th>\n",
              "      <th>date_only</th>\n",
              "      <th>time_only</th>\n",
              "    </tr>\n",
              "  </thead>\n",
              "  <tbody>\n",
              "    <tr>\n",
              "      <th>0</th>\n",
              "      <td>0.44</td>\n",
              "      <td>Lyft</td>\n",
              "      <td>2018-12-16 09:30:07.890</td>\n",
              "      <td>North Station</td>\n",
              "      <td>Haymarket Square</td>\n",
              "      <td>5.0</td>\n",
              "      <td>1.0</td>\n",
              "      <td>lyft_line</td>\n",
              "      <td>Shared</td>\n",
              "      <td>2018-12-16</td>\n",
              "      <td>09:30:07.890000</td>\n",
              "    </tr>\n",
              "    <tr>\n",
              "      <th>1</th>\n",
              "      <td>0.44</td>\n",
              "      <td>Lyft</td>\n",
              "      <td>2018-11-27 02:00:23.677</td>\n",
              "      <td>North Station</td>\n",
              "      <td>Haymarket Square</td>\n",
              "      <td>11.0</td>\n",
              "      <td>1.0</td>\n",
              "      <td>lyft_premier</td>\n",
              "      <td>Lux</td>\n",
              "      <td>2018-11-27</td>\n",
              "      <td>02:00:23.677000</td>\n",
              "    </tr>\n",
              "  </tbody>\n",
              "</table>\n",
              "</div>\n",
              "      <button class=\"colab-df-convert\" onclick=\"convertToInteractive('df-de0c5ca7-ef01-4664-8f81-d47121b44f4d')\"\n",
              "              title=\"Convert this dataframe to an interactive table.\"\n",
              "              style=\"display:none;\">\n",
              "        \n",
              "  <svg xmlns=\"http://www.w3.org/2000/svg\" height=\"24px\"viewBox=\"0 0 24 24\"\n",
              "       width=\"24px\">\n",
              "    <path d=\"M0 0h24v24H0V0z\" fill=\"none\"/>\n",
              "    <path d=\"M18.56 5.44l.94 2.06.94-2.06 2.06-.94-2.06-.94-.94-2.06-.94 2.06-2.06.94zm-11 1L8.5 8.5l.94-2.06 2.06-.94-2.06-.94L8.5 2.5l-.94 2.06-2.06.94zm10 10l.94 2.06.94-2.06 2.06-.94-2.06-.94-.94-2.06-.94 2.06-2.06.94z\"/><path d=\"M17.41 7.96l-1.37-1.37c-.4-.4-.92-.59-1.43-.59-.52 0-1.04.2-1.43.59L10.3 9.45l-7.72 7.72c-.78.78-.78 2.05 0 2.83L4 21.41c.39.39.9.59 1.41.59.51 0 1.02-.2 1.41-.59l7.78-7.78 2.81-2.81c.8-.78.8-2.07 0-2.86zM5.41 20L4 18.59l7.72-7.72 1.47 1.35L5.41 20z\"/>\n",
              "  </svg>\n",
              "      </button>\n",
              "      \n",
              "  <style>\n",
              "    .colab-df-container {\n",
              "      display:flex;\n",
              "      flex-wrap:wrap;\n",
              "      gap: 12px;\n",
              "    }\n",
              "\n",
              "    .colab-df-convert {\n",
              "      background-color: #E8F0FE;\n",
              "      border: none;\n",
              "      border-radius: 50%;\n",
              "      cursor: pointer;\n",
              "      display: none;\n",
              "      fill: #1967D2;\n",
              "      height: 32px;\n",
              "      padding: 0 0 0 0;\n",
              "      width: 32px;\n",
              "    }\n",
              "\n",
              "    .colab-df-convert:hover {\n",
              "      background-color: #E2EBFA;\n",
              "      box-shadow: 0px 1px 2px rgba(60, 64, 67, 0.3), 0px 1px 3px 1px rgba(60, 64, 67, 0.15);\n",
              "      fill: #174EA6;\n",
              "    }\n",
              "\n",
              "    [theme=dark] .colab-df-convert {\n",
              "      background-color: #3B4455;\n",
              "      fill: #D2E3FC;\n",
              "    }\n",
              "\n",
              "    [theme=dark] .colab-df-convert:hover {\n",
              "      background-color: #434B5C;\n",
              "      box-shadow: 0px 1px 3px 1px rgba(0, 0, 0, 0.15);\n",
              "      filter: drop-shadow(0px 1px 2px rgba(0, 0, 0, 0.3));\n",
              "      fill: #FFFFFF;\n",
              "    }\n",
              "  </style>\n",
              "\n",
              "      <script>\n",
              "        const buttonEl =\n",
              "          document.querySelector('#df-de0c5ca7-ef01-4664-8f81-d47121b44f4d button.colab-df-convert');\n",
              "        buttonEl.style.display =\n",
              "          google.colab.kernel.accessAllowed ? 'block' : 'none';\n",
              "\n",
              "        async function convertToInteractive(key) {\n",
              "          const element = document.querySelector('#df-de0c5ca7-ef01-4664-8f81-d47121b44f4d');\n",
              "          const dataTable =\n",
              "            await google.colab.kernel.invokeFunction('convertToInteractive',\n",
              "                                                     [key], {});\n",
              "          if (!dataTable) return;\n",
              "\n",
              "          const docLinkHtml = 'Like what you see? Visit the ' +\n",
              "            '<a target=\"_blank\" href=https://colab.research.google.com/notebooks/data_table.ipynb>data table notebook</a>'\n",
              "            + ' to learn more about interactive tables.';\n",
              "          element.innerHTML = '';\n",
              "          dataTable['output_type'] = 'display_data';\n",
              "          await google.colab.output.renderOutput(dataTable, element);\n",
              "          const docLink = document.createElement('div');\n",
              "          docLink.innerHTML = docLinkHtml;\n",
              "          element.appendChild(docLink);\n",
              "        }\n",
              "      </script>\n",
              "    </div>\n",
              "  </div>\n",
              "  "
            ]
          },
          "metadata": {},
          "execution_count": 22
        }
      ]
    },
    {
      "cell_type": "code",
      "source": [
        "#Creating columns for Month, Hour and Weekdays to be used for analysis and visualisation\n",
        "df_rides['Month'] = df_rides['time_stamp'].dt.month\n",
        "df_rides['Hour'] = df_rides['time_stamp'].dt.hour\n",
        "df_rides['Day'] =  df_rides['time_stamp'].dt.strftime('%A')\n",
        "df_rides.head()"
      ],
      "metadata": {
        "colab": {
          "base_uri": "https://localhost:8080/",
          "height": 374
        },
        "id": "HaK1qq7PGJsx",
        "outputId": "faf2db90-bffa-4801-8fd8-ea93bbd02061"
      },
      "execution_count": null,
      "outputs": [
        {
          "output_type": "execute_result",
          "data": {
            "text/plain": [
              "   distance cab_type              time_stamp    destination            source  \\\n",
              "0      0.44     Lyft 2018-12-16 09:30:07.890  North Station  Haymarket Square   \n",
              "1      0.44     Lyft 2018-11-27 02:00:23.677  North Station  Haymarket Square   \n",
              "2      0.44     Lyft 2018-11-28 01:00:22.198  North Station  Haymarket Square   \n",
              "3      0.44     Lyft 2018-11-30 04:53:02.749  North Station  Haymarket Square   \n",
              "4      0.44     Lyft 2018-11-29 03:49:20.223  North Station  Haymarket Square   \n",
              "\n",
              "   price  surge_multiplier    product_id          name   date_only  \\\n",
              "0    5.0               1.0     lyft_line        Shared  2018-12-16   \n",
              "1   11.0               1.0  lyft_premier           Lux  2018-11-27   \n",
              "2    7.0               1.0          lyft          Lyft  2018-11-28   \n",
              "3   26.0               1.0   lyft_luxsuv  Lux Black XL  2018-11-30   \n",
              "4    9.0               1.0     lyft_plus       Lyft XL  2018-11-29   \n",
              "\n",
              "         time_only  Month  Hour        Day  \n",
              "0  09:30:07.890000     12     9     Sunday  \n",
              "1  02:00:23.677000     11     2    Tuesday  \n",
              "2  01:00:22.198000     11     1  Wednesday  \n",
              "3  04:53:02.749000     11     4     Friday  \n",
              "4  03:49:20.223000     11     3   Thursday  "
            ],
            "text/html": [
              "\n",
              "  <div id=\"df-0b6a3393-1804-4627-83bd-2d3856889859\">\n",
              "    <div class=\"colab-df-container\">\n",
              "      <div>\n",
              "<style scoped>\n",
              "    .dataframe tbody tr th:only-of-type {\n",
              "        vertical-align: middle;\n",
              "    }\n",
              "\n",
              "    .dataframe tbody tr th {\n",
              "        vertical-align: top;\n",
              "    }\n",
              "\n",
              "    .dataframe thead th {\n",
              "        text-align: right;\n",
              "    }\n",
              "</style>\n",
              "<table border=\"1\" class=\"dataframe\">\n",
              "  <thead>\n",
              "    <tr style=\"text-align: right;\">\n",
              "      <th></th>\n",
              "      <th>distance</th>\n",
              "      <th>cab_type</th>\n",
              "      <th>time_stamp</th>\n",
              "      <th>destination</th>\n",
              "      <th>source</th>\n",
              "      <th>price</th>\n",
              "      <th>surge_multiplier</th>\n",
              "      <th>product_id</th>\n",
              "      <th>name</th>\n",
              "      <th>date_only</th>\n",
              "      <th>time_only</th>\n",
              "      <th>Month</th>\n",
              "      <th>Hour</th>\n",
              "      <th>Day</th>\n",
              "    </tr>\n",
              "  </thead>\n",
              "  <tbody>\n",
              "    <tr>\n",
              "      <th>0</th>\n",
              "      <td>0.44</td>\n",
              "      <td>Lyft</td>\n",
              "      <td>2018-12-16 09:30:07.890</td>\n",
              "      <td>North Station</td>\n",
              "      <td>Haymarket Square</td>\n",
              "      <td>5.0</td>\n",
              "      <td>1.0</td>\n",
              "      <td>lyft_line</td>\n",
              "      <td>Shared</td>\n",
              "      <td>2018-12-16</td>\n",
              "      <td>09:30:07.890000</td>\n",
              "      <td>12</td>\n",
              "      <td>9</td>\n",
              "      <td>Sunday</td>\n",
              "    </tr>\n",
              "    <tr>\n",
              "      <th>1</th>\n",
              "      <td>0.44</td>\n",
              "      <td>Lyft</td>\n",
              "      <td>2018-11-27 02:00:23.677</td>\n",
              "      <td>North Station</td>\n",
              "      <td>Haymarket Square</td>\n",
              "      <td>11.0</td>\n",
              "      <td>1.0</td>\n",
              "      <td>lyft_premier</td>\n",
              "      <td>Lux</td>\n",
              "      <td>2018-11-27</td>\n",
              "      <td>02:00:23.677000</td>\n",
              "      <td>11</td>\n",
              "      <td>2</td>\n",
              "      <td>Tuesday</td>\n",
              "    </tr>\n",
              "    <tr>\n",
              "      <th>2</th>\n",
              "      <td>0.44</td>\n",
              "      <td>Lyft</td>\n",
              "      <td>2018-11-28 01:00:22.198</td>\n",
              "      <td>North Station</td>\n",
              "      <td>Haymarket Square</td>\n",
              "      <td>7.0</td>\n",
              "      <td>1.0</td>\n",
              "      <td>lyft</td>\n",
              "      <td>Lyft</td>\n",
              "      <td>2018-11-28</td>\n",
              "      <td>01:00:22.198000</td>\n",
              "      <td>11</td>\n",
              "      <td>1</td>\n",
              "      <td>Wednesday</td>\n",
              "    </tr>\n",
              "    <tr>\n",
              "      <th>3</th>\n",
              "      <td>0.44</td>\n",
              "      <td>Lyft</td>\n",
              "      <td>2018-11-30 04:53:02.749</td>\n",
              "      <td>North Station</td>\n",
              "      <td>Haymarket Square</td>\n",
              "      <td>26.0</td>\n",
              "      <td>1.0</td>\n",
              "      <td>lyft_luxsuv</td>\n",
              "      <td>Lux Black XL</td>\n",
              "      <td>2018-11-30</td>\n",
              "      <td>04:53:02.749000</td>\n",
              "      <td>11</td>\n",
              "      <td>4</td>\n",
              "      <td>Friday</td>\n",
              "    </tr>\n",
              "    <tr>\n",
              "      <th>4</th>\n",
              "      <td>0.44</td>\n",
              "      <td>Lyft</td>\n",
              "      <td>2018-11-29 03:49:20.223</td>\n",
              "      <td>North Station</td>\n",
              "      <td>Haymarket Square</td>\n",
              "      <td>9.0</td>\n",
              "      <td>1.0</td>\n",
              "      <td>lyft_plus</td>\n",
              "      <td>Lyft XL</td>\n",
              "      <td>2018-11-29</td>\n",
              "      <td>03:49:20.223000</td>\n",
              "      <td>11</td>\n",
              "      <td>3</td>\n",
              "      <td>Thursday</td>\n",
              "    </tr>\n",
              "  </tbody>\n",
              "</table>\n",
              "</div>\n",
              "      <button class=\"colab-df-convert\" onclick=\"convertToInteractive('df-0b6a3393-1804-4627-83bd-2d3856889859')\"\n",
              "              title=\"Convert this dataframe to an interactive table.\"\n",
              "              style=\"display:none;\">\n",
              "        \n",
              "  <svg xmlns=\"http://www.w3.org/2000/svg\" height=\"24px\"viewBox=\"0 0 24 24\"\n",
              "       width=\"24px\">\n",
              "    <path d=\"M0 0h24v24H0V0z\" fill=\"none\"/>\n",
              "    <path d=\"M18.56 5.44l.94 2.06.94-2.06 2.06-.94-2.06-.94-.94-2.06-.94 2.06-2.06.94zm-11 1L8.5 8.5l.94-2.06 2.06-.94-2.06-.94L8.5 2.5l-.94 2.06-2.06.94zm10 10l.94 2.06.94-2.06 2.06-.94-2.06-.94-.94-2.06-.94 2.06-2.06.94z\"/><path d=\"M17.41 7.96l-1.37-1.37c-.4-.4-.92-.59-1.43-.59-.52 0-1.04.2-1.43.59L10.3 9.45l-7.72 7.72c-.78.78-.78 2.05 0 2.83L4 21.41c.39.39.9.59 1.41.59.51 0 1.02-.2 1.41-.59l7.78-7.78 2.81-2.81c.8-.78.8-2.07 0-2.86zM5.41 20L4 18.59l7.72-7.72 1.47 1.35L5.41 20z\"/>\n",
              "  </svg>\n",
              "      </button>\n",
              "      \n",
              "  <style>\n",
              "    .colab-df-container {\n",
              "      display:flex;\n",
              "      flex-wrap:wrap;\n",
              "      gap: 12px;\n",
              "    }\n",
              "\n",
              "    .colab-df-convert {\n",
              "      background-color: #E8F0FE;\n",
              "      border: none;\n",
              "      border-radius: 50%;\n",
              "      cursor: pointer;\n",
              "      display: none;\n",
              "      fill: #1967D2;\n",
              "      height: 32px;\n",
              "      padding: 0 0 0 0;\n",
              "      width: 32px;\n",
              "    }\n",
              "\n",
              "    .colab-df-convert:hover {\n",
              "      background-color: #E2EBFA;\n",
              "      box-shadow: 0px 1px 2px rgba(60, 64, 67, 0.3), 0px 1px 3px 1px rgba(60, 64, 67, 0.15);\n",
              "      fill: #174EA6;\n",
              "    }\n",
              "\n",
              "    [theme=dark] .colab-df-convert {\n",
              "      background-color: #3B4455;\n",
              "      fill: #D2E3FC;\n",
              "    }\n",
              "\n",
              "    [theme=dark] .colab-df-convert:hover {\n",
              "      background-color: #434B5C;\n",
              "      box-shadow: 0px 1px 3px 1px rgba(0, 0, 0, 0.15);\n",
              "      filter: drop-shadow(0px 1px 2px rgba(0, 0, 0, 0.3));\n",
              "      fill: #FFFFFF;\n",
              "    }\n",
              "  </style>\n",
              "\n",
              "      <script>\n",
              "        const buttonEl =\n",
              "          document.querySelector('#df-0b6a3393-1804-4627-83bd-2d3856889859 button.colab-df-convert');\n",
              "        buttonEl.style.display =\n",
              "          google.colab.kernel.accessAllowed ? 'block' : 'none';\n",
              "\n",
              "        async function convertToInteractive(key) {\n",
              "          const element = document.querySelector('#df-0b6a3393-1804-4627-83bd-2d3856889859');\n",
              "          const dataTable =\n",
              "            await google.colab.kernel.invokeFunction('convertToInteractive',\n",
              "                                                     [key], {});\n",
              "          if (!dataTable) return;\n",
              "\n",
              "          const docLinkHtml = 'Like what you see? Visit the ' +\n",
              "            '<a target=\"_blank\" href=https://colab.research.google.com/notebooks/data_table.ipynb>data table notebook</a>'\n",
              "            + ' to learn more about interactive tables.';\n",
              "          element.innerHTML = '';\n",
              "          dataTable['output_type'] = 'display_data';\n",
              "          await google.colab.output.renderOutput(dataTable, element);\n",
              "          const docLink = document.createElement('div');\n",
              "          docLink.innerHTML = docLinkHtml;\n",
              "          element.appendChild(docLink);\n",
              "        }\n",
              "      </script>\n",
              "    </div>\n",
              "  </div>\n",
              "  "
            ]
          },
          "metadata": {},
          "execution_count": 23
        }
      ]
    },
    {
      "cell_type": "markdown",
      "source": [
        "### **Data Analysis and Visualization**"
      ],
      "metadata": {
        "id": "nfxBEZX5H8bj"
      }
    },
    {
      "cell_type": "markdown",
      "source": [
        "#### Distribution of Rides per day"
      ],
      "metadata": {
        "id": "ktwztRhNI1SJ"
      }
    },
    {
      "cell_type": "code",
      "source": [
        "# Plotting the days with higher utilization of cabs\n",
        "# \n",
        "#getting the counts per day when the cab type is uber, then when it's lyft\n",
        "#reindexing the information so that Friday can be the first day\n",
        "uber_day_count = df_rides[df_rides['cab_type'] == 'Uber']['Day'].value_counts()\n",
        "uber_day_count = uber_day_count.reindex(index = ['Friday','Saturday','Sunday', 'Monday', 'Tuesday', 'Wednesday', 'Thursday'])\n",
        "lyft_day_count = df_rides[df_rides['cab_type'] == 'Lyft']['Day'].value_counts()\n",
        "lyft_day_count = lyft_day_count.reindex(index = ['Friday','Saturday','Sunday', 'Monday', 'Tuesday', 'Wednesday', 'Thursday'])\n",
        "\n",
        "#plotting the index which is the days of the week on the x axis and the counts on the y axis\n",
        "fig , ax = plt.subplots(figsize = (12,12))\n",
        "ax.plot(uber_day_count.index, uber_day_count, label = 'Uber')\n",
        "ax.plot(lyft_day_count.index, lyft_day_count, label = 'Lyft')\n",
        "ax.set(ylabel = 'Number of Rides', xlabel = 'Weekdays')\n",
        "ax.legend()\n",
        "plt.show()"
      ],
      "metadata": {
        "colab": {
          "base_uri": "https://localhost:8080/",
          "height": 714
        },
        "id": "cCR8_NcsIoTs",
        "outputId": "32d90989-3cdd-4c0d-8c29-cdfaa930e9c4"
      },
      "execution_count": null,
      "outputs": [
        {
          "output_type": "display_data",
          "data": {
            "text/plain": [
              "<Figure size 864x864 with 1 Axes>"
            ],
            "image/png": "[encoded data removed]"
          },
          "metadata": {
            "needs_background": "light"
          }
        }
      ]
    },
    {
      "cell_type": "markdown",
      "source": [
        "The days with the most rides ordered are Mondays and Tuesdays (Tuesdays are the highest), while the day with the least is Wednesdays for both Uber and Lyft."
      ],
      "metadata": {
        "id": "4nD3sYWuGBWx"
      }
    },
    {
      "cell_type": "markdown",
      "source": [
        "#### Distribution of Rides in each day"
      ],
      "metadata": {
        "id": "5mOnzlOlIrS1"
      }
    },
    {
      "cell_type": "code",
      "source": [
        "# Plotting the hours in which cabs are mostly taken\n",
        "\n",
        "#getting the counts per hour when the cab type is uber, then when it's lyft and plotting this on the y axis\n",
        "#plotting the index of the group, which is the hour of the day, on the x axis\n",
        "fig , ax = plt.subplots(figsize= (12,12))\n",
        "ax.plot(df_rides[df_rides['cab_type'] == 'Lyft'].groupby('Hour').Hour.count().index, df_rides[df_rides['cab_type'] == 'Lyft'].groupby('Hour').Hour.count(), label = 'Lyft')\n",
        "ax.plot(df_rides[df_rides['cab_type'] == 'Uber'].groupby('Hour').Hour.count().index, df_rides[df_rides['cab_type'] =='Uber'].groupby('Hour').Hour.count(), label = 'Uber')\n",
        "ax.legend()\n",
        "ax.set(xlabel = 'Hours', ylabel = 'Number of Rides')\n",
        "plt.xticks(range(0,24,1))\n",
        "plt.show()"
      ],
      "metadata": {
        "colab": {
          "base_uri": "https://localhost:8080/",
          "height": 714
        },
        "id": "dQ8GqwI6Iw2p",
        "outputId": "13e078b2-388a-488e-e34b-8b59dbf89918"
      },
      "execution_count": null,
      "outputs": [
        {
          "output_type": "display_data",
          "data": {
            "text/plain": [
              "<Figure size 864x864 with 1 Axes>"
            ],
            "image/png": "[encoded data removed]"
          },
          "metadata": {
            "needs_background": "light"
          }
        }
      ]
    },
    {
      "cell_type": "markdown",
      "source": [
        "Rides are most often requested around midnight, and during the day the most active hours are between 10 am and 6 pm."
      ],
      "metadata": {
        "id": "7JyHtdO0JAIk"
      }
    },
    {
      "cell_type": "markdown",
      "source": [
        "#### Average Price per Distance per Cab Service comparison"
      ],
      "metadata": {
        "id": "EITkk5KyJPi-"
      }
    },
    {
      "cell_type": "code",
      "source": [
        "\n",
        "# Plotting Prices per distance per cab service\n",
        "fig , ax = plt.subplots(figsize = (12,12))\n",
        "ax.plot(df_rides[df_rides['cab_type'] == 'Lyft'].groupby('distance').price.mean().index, df_rides[df_rides['cab_type'] == 'Lyft'].groupby('distance')['price'].mean(), label = 'Lyft')\n",
        "ax.plot(df_rides[df_rides['cab_type'] == 'Uber'].groupby('distance').price.mean().index, df_rides[df_rides['cab_type'] =='Uber'].groupby('distance').price.mean(), label = 'Uber')\n",
        "ax.set_title('The Average Price', fontsize= 14)\n",
        "ax.set(xlabel = 'Distance', ylabel = 'Price' )\n",
        "ax.legend()\n",
        "plt.show()\n",
        "\n"
      ],
      "metadata": {
        "colab": {
          "base_uri": "https://localhost:8080/",
          "height": 731
        },
        "id": "4SZqR5MVJT2W",
        "outputId": "867e77d3-07e3-432a-e496-5dd156d2fa1a"
      },
      "execution_count": null,
      "outputs": [
        {
          "output_type": "display_data",
          "data": {
            "text/plain": [
              "<Figure size 864x864 with 1 Axes>"
            ],
            "image/png": "[encoded data removed]"
          },
          "metadata": {
            "needs_background": "light"
          }
        }
      ]
    },
    {
      "cell_type": "markdown",
      "source": [
        "Shows that Lyft prices are marginally higher than Uber prices"
      ],
      "metadata": {
        "id": "k1o385tBTyXu"
      }
    },
    {
      "cell_type": "markdown",
      "source": [
        "#### Destinations with highest Surge in prices"
      ],
      "metadata": {
        "id": "_XsjC7WuMeTn"
      }
    },
    {
      "cell_type": "code",
      "source": [
        "high_surge_trip = df_rides[df_rides[\"surge_multiplier\"] >= 1.5]\n",
        "location_wise_surge = high_surge_trip.groupby([\"source\", \"destination\"]).size().reset_index()"
      ],
      "metadata": {
        "id": "kUofs60fMh8i"
      },
      "execution_count": null,
      "outputs": []
    },
    {
      "cell_type": "code",
      "source": [
        "\n",
        "location_wise_surge.columns=[\"source\", \"destination\", \"count\"]\n",
        "location_wise_surge.sort_values(inplace=True, ascending=False, by=[\"count\"])\n",
        "#highest and lowest when the surge multiplier is >= 1.5\n",
        "highest_destination_surge = location_wise_surge.head(5)\n",
        "lowest_destination_surge = location_wise_surge.tail(5)\n",
        "# highest_destination_surge\n",
        "destination_surge_df = highest_destination_surge.append(lowest_destination_surge, ignore_index=True)\n",
        "destination_surge_df[\"source - destination\"] = destination_surge_df[\"source\"] + \" \" + destination_surge_df[\"destination\"]\n",
        "plt.figure(figsize=(20, 10))\n",
        "g = sns.barplot(data = destination_surge_df, x = \"source - destination\", y = \"count\")\n",
        "g.set_title(\"Top and least 5 source - destinations for surge\")\n",
        "loc, labels = plt.xticks()\n",
        "g.set_xticklabels(labels, rotation=60)"
      ],
      "metadata": {
        "colab": {
          "base_uri": "https://localhost:8080/",
          "height": 868
        },
        "id": "UAbq5KxwMvvQ",
        "outputId": "9cda8176-d8f1-4efd-efc7-6d5c8eaadbd8"
      },
      "execution_count": null,
      "outputs": [
        {
          "output_type": "execute_result",
          "data": {
            "text/plain": [
              "[Text(0, 0, 'Theatre District South Station'),\n",
              " Text(0, 0, 'Fenway Financial District'),\n",
              " Text(0, 0, 'Theatre District Boston University'),\n",
              " Text(0, 0, 'Northeastern University North Station'),\n",
              " Text(0, 0, 'Back Bay Haymarket Square'),\n",
              " Text(0, 0, 'Haymarket Square Financial District'),\n",
              " Text(0, 0, 'Haymarket Square West End'),\n",
              " Text(0, 0, 'North End Back Bay'),\n",
              " Text(0, 0, 'Haymarket Square North Station'),\n",
              " Text(0, 0, 'Haymarket Square Beacon Hill')]"
            ]
          },
          "metadata": {},
          "execution_count": 28
        },
        {
          "output_type": "display_data",
          "data": {
            "text/plain": [
              "<Figure size 1440x720 with 1 Axes>"
            ],
            "image/png": "[encoded data removed]"
          },
          "metadata": {
            "needs_background": "light"
          }
        }
      ]
    },
    {
      "cell_type": "markdown",
      "source": [
        "The top 5 routes affected by the surge multiplier include:\n",
        "* Theatre District - South Station\n",
        "* Fenway-Financial District\n",
        "* Theatre District - Boston University\n",
        "* Northeastern University-North Station\n",
        "* Back Bay-Haymarket Square.\n",
        "\n",
        "The lowest 5 (where the surge multiplier was greater than or equal to 1.5) include:\n",
        "* Haymarket Square-Financial District\n",
        "* Haymarket Square-West End\n",
        "* North End-Back Bay\n",
        "* Haymarket Square-North Station\n",
        "* Haymarket Square-Beacon Hill"
      ],
      "metadata": {
        "id": "S8SbXVQ3Ks86"
      }
    },
    {
      "cell_type": "markdown",
      "source": [
        "#### Determining Commonest Trips (From Source to Destination)"
      ],
      "metadata": {
        "id": "2c1ONO8JMQPC"
      }
    },
    {
      "cell_type": "code",
      "source": [
        "# Creating Separate Dataframes for the Two cab types\n",
        "\n",
        "uber_df = df_rides[df_rides['cab_type'] ==\"Uber\"]\n",
        "lyft_df = df_rides[df_rides['cab_type'] ==\"Lyft\"]\n"
      ],
      "metadata": {
        "id": "lDBxdOOAEslK"
      },
      "execution_count": null,
      "outputs": []
    },
    {
      "cell_type": "code",
      "source": [
        "# We do this by joining the source and destination of the trips\n",
        "uber_source_destination_df= uber_df.groupby(['source', \"destination\"]).size().reset_index()\n",
        "uber_source_destination_df.columns = [\"source\", \"destination\", \"count\"]\n",
        "uber_source_destination_df.sort_values(\"count\", inplace=True, ascending = False)\n",
        "uber_top_trips = uber_source_destination_df.iloc[0:10, ]\n",
        "uber_top_trips[\"Source - Destination\"] = uber_source_destination_df[\"source\"] + \" - \" + uber_source_destination_df[\"destination\"]\n",
        "\n",
        "# So the top Source - Destination (routes) for Uber\n",
        "uber_top_trips = uber_top_trips[[\"Source - Destination\", \"count\"]]\n",
        "uber_top_trips"
      ],
      "metadata": {
        "colab": {
          "base_uri": "https://localhost:8080/",
          "height": 487
        },
        "id": "WdoALONuKP4P",
        "outputId": "8dae9328-28cb-47b5-bd4d-8d517295edf8"
      },
      "execution_count": null,
      "outputs": [
        {
          "output_type": "stream",
          "name": "stderr",
          "text": [
            "/usr/local/lib/python3.7/dist-packages/ipykernel_launcher.py:6: SettingWithCopyWarning: \n",
            "A value is trying to be set on a copy of a slice from a DataFrame.\n",
            "Try using .loc[row_indexer,col_indexer] = value instead\n",
            "\n",
            "See the caveats in the documentation: https://pandas.pydata.org/pandas-docs/stable/user_guide/indexing.html#returning-a-view-versus-a-copy\n",
            "  \n"
          ]
        },
        {
          "output_type": "execute_result",
          "data": {
            "text/plain": [
              "                     Source - Destination  count\n",
              "56     South Station - Financial District   4907\n",
              "29     Financial District - South Station   4906\n",
              "36                   North End - Back Bay   4866\n",
              "3                    Back Bay - North End   4866\n",
              "67                      West End - Fenway   4830\n",
              "23                      Fenway - West End   4829\n",
              "32  Haymarket Square - Financial District   4824\n",
              "26  Financial District - Haymarket Square   4822\n",
              "37                North End - Beacon Hill   4794\n",
              "9                 Beacon Hill - North End   4794"
            ],
            "text/html": [
              "\n",
              "  <div id=\"df-cc547536-118f-467b-8c0f-2e1997107f17\">\n",
              "    <div class=\"colab-df-container\">\n",
              "      <div>\n",
              "<style scoped>\n",
              "    .dataframe tbody tr th:only-of-type {\n",
              "        vertical-align: middle;\n",
              "    }\n",
              "\n",
              "    .dataframe tbody tr th {\n",
              "        vertical-align: top;\n",
              "    }\n",
              "\n",
              "    .dataframe thead th {\n",
              "        text-align: right;\n",
              "    }\n",
              "</style>\n",
              "<table border=\"1\" class=\"dataframe\">\n",
              "  <thead>\n",
              "    <tr style=\"text-align: right;\">\n",
              "      <th></th>\n",
              "      <th>Source - Destination</th>\n",
              "      <th>count</th>\n",
              "    </tr>\n",
              "  </thead>\n",
              "  <tbody>\n",
              "    <tr>\n",
              "      <th>56</th>\n",
              "      <td>South Station - Financial District</td>\n",
              "      <td>4907</td>\n",
              "    </tr>\n",
              "    <tr>\n",
              "      <th>29</th>\n",
              "      <td>Financial District - South Station</td>\n",
              "      <td>4906</td>\n",
              "    </tr>\n",
              "    <tr>\n",
              "      <th>36</th>\n",
              "      <td>North End - Back Bay</td>\n",
              "      <td>4866</td>\n",
              "    </tr>\n",
              "    <tr>\n",
              "      <th>3</th>\n",
              "      <td>Back Bay - North End</td>\n",
              "      <td>4866</td>\n",
              "    </tr>\n",
              "    <tr>\n",
              "      <th>67</th>\n",
              "      <td>West End - Fenway</td>\n",
              "      <td>4830</td>\n",
              "    </tr>\n",
              "    <tr>\n",
              "      <th>23</th>\n",
              "      <td>Fenway - West End</td>\n",
              "      <td>4829</td>\n",
              "    </tr>\n",
              "    <tr>\n",
              "      <th>32</th>\n",
              "      <td>Haymarket Square - Financial District</td>\n",
              "      <td>4824</td>\n",
              "    </tr>\n",
              "    <tr>\n",
              "      <th>26</th>\n",
              "      <td>Financial District - Haymarket Square</td>\n",
              "      <td>4822</td>\n",
              "    </tr>\n",
              "    <tr>\n",
              "      <th>37</th>\n",
              "      <td>North End - Beacon Hill</td>\n",
              "      <td>4794</td>\n",
              "    </tr>\n",
              "    <tr>\n",
              "      <th>9</th>\n",
              "      <td>Beacon Hill - North End</td>\n",
              "      <td>4794</td>\n",
              "    </tr>\n",
              "  </tbody>\n",
              "</table>\n",
              "</div>\n",
              "      <button class=\"colab-df-convert\" onclick=\"convertToInteractive('df-cc547536-118f-467b-8c0f-2e1997107f17')\"\n",
              "              title=\"Convert this dataframe to an interactive table.\"\n",
              "              style=\"display:none;\">\n",
              "        \n",
              "  <svg xmlns=\"http://www.w3.org/2000/svg\" height=\"24px\"viewBox=\"0 0 24 24\"\n",
              "       width=\"24px\">\n",
              "    <path d=\"M0 0h24v24H0V0z\" fill=\"none\"/>\n",
              "    <path d=\"M18.56 5.44l.94 2.06.94-2.06 2.06-.94-2.06-.94-.94-2.06-.94 2.06-2.06.94zm-11 1L8.5 8.5l.94-2.06 2.06-.94-2.06-.94L8.5 2.5l-.94 2.06-2.06.94zm10 10l.94 2.06.94-2.06 2.06-.94-2.06-.94-.94-2.06-.94 2.06-2.06.94z\"/><path d=\"M17.41 7.96l-1.37-1.37c-.4-.4-.92-.59-1.43-.59-.52 0-1.04.2-1.43.59L10.3 9.45l-7.72 7.72c-.78.78-.78 2.05 0 2.83L4 21.41c.39.39.9.59 1.41.59.51 0 1.02-.2 1.41-.59l7.78-7.78 2.81-2.81c.8-.78.8-2.07 0-2.86zM5.41 20L4 18.59l7.72-7.72 1.47 1.35L5.41 20z\"/>\n",
              "  </svg>\n",
              "      </button>\n",
              "      \n",
              "  <style>\n",
              "    .colab-df-container {\n",
              "      display:flex;\n",
              "      flex-wrap:wrap;\n",
              "      gap: 12px;\n",
              "    }\n",
              "\n",
              "    .colab-df-convert {\n",
              "      background-color: #E8F0FE;\n",
              "      border: none;\n",
              "      border-radius: 50%;\n",
              "      cursor: pointer;\n",
              "      display: none;\n",
              "      fill: #1967D2;\n",
              "      height: 32px;\n",
              "      padding: 0 0 0 0;\n",
              "      width: 32px;\n",
              "    }\n",
              "\n",
              "    .colab-df-convert:hover {\n",
              "      background-color: #E2EBFA;\n",
              "      box-shadow: 0px 1px 2px rgba(60, 64, 67, 0.3), 0px 1px 3px 1px rgba(60, 64, 67, 0.15);\n",
              "      fill: #174EA6;\n",
              "    }\n",
              "\n",
              "    [theme=dark] .colab-df-convert {\n",
              "      background-color: #3B4455;\n",
              "      fill: #D2E3FC;\n",
              "    }\n",
              "\n",
              "    [theme=dark] .colab-df-convert:hover {\n",
              "      background-color: #434B5C;\n",
              "      box-shadow: 0px 1px 3px 1px rgba(0, 0, 0, 0.15);\n",
              "      filter: drop-shadow(0px 1px 2px rgba(0, 0, 0, 0.3));\n",
              "      fill: #FFFFFF;\n",
              "    }\n",
              "  </style>\n",
              "\n",
              "      <script>\n",
              "        const buttonEl =\n",
              "          document.querySelector('#df-cc547536-118f-467b-8c0f-2e1997107f17 button.colab-df-convert');\n",
              "        buttonEl.style.display =\n",
              "          google.colab.kernel.accessAllowed ? 'block' : 'none';\n",
              "\n",
              "        async function convertToInteractive(key) {\n",
              "          const element = document.querySelector('#df-cc547536-118f-467b-8c0f-2e1997107f17');\n",
              "          const dataTable =\n",
              "            await google.colab.kernel.invokeFunction('convertToInteractive',\n",
              "                                                     [key], {});\n",
              "          if (!dataTable) return;\n",
              "\n",
              "          const docLinkHtml = 'Like what you see? Visit the ' +\n",
              "            '<a target=\"_blank\" href=https://colab.research.google.com/notebooks/data_table.ipynb>data table notebook</a>'\n",
              "            + ' to learn more about interactive tables.';\n",
              "          element.innerHTML = '';\n",
              "          dataTable['output_type'] = 'display_data';\n",
              "          await google.colab.output.renderOutput(dataTable, element);\n",
              "          const docLink = document.createElement('div');\n",
              "          docLink.innerHTML = docLinkHtml;\n",
              "          element.appendChild(docLink);\n",
              "        }\n",
              "      </script>\n",
              "    </div>\n",
              "  </div>\n",
              "  "
            ]
          },
          "metadata": {},
          "execution_count": 30
        }
      ]
    },
    {
      "cell_type": "code",
      "source": [
        "# Joining the source and destination of the trips for Lyft\n",
        "Lyft_source_destination_df= lyft_df.groupby(['source', \"destination\"]).size().reset_index()\n",
        "Lyft_source_destination_df.columns = [\"source\", \"destination\", \"count\"]\n",
        "Lyft_source_destination_df.sort_values(\"count\", inplace=True, ascending = False)\n",
        "lyft_top_trips = Lyft_source_destination_df.iloc[0:10, ]\n",
        "lyft_top_trips[\"Source - Destination\"] = Lyft_source_destination_df[\"source\"] + \" - \" + Lyft_source_destination_df[\"destination\"]\n",
        "\n",
        "# So the top Source - Destination (routes) for Lyft\n",
        "lyft_top_trips = lyft_top_trips[[\"Source - Destination\", \"count\"]]\n",
        "lyft_top_trips"
      ],
      "metadata": {
        "colab": {
          "base_uri": "https://localhost:8080/",
          "height": 487
        },
        "id": "O2-7yutQFA5g",
        "outputId": "f5563aa3-899d-4b63-c6eb-db263d542faf"
      },
      "execution_count": null,
      "outputs": [
        {
          "output_type": "stream",
          "name": "stderr",
          "text": [
            "/usr/local/lib/python3.7/dist-packages/ipykernel_launcher.py:6: SettingWithCopyWarning: \n",
            "A value is trying to be set on a copy of a slice from a DataFrame.\n",
            "Try using .loc[row_indexer,col_indexer] = value instead\n",
            "\n",
            "See the caveats in the documentation: https://pandas.pydata.org/pandas-docs/stable/user_guide/indexing.html#returning-a-view-versus-a-copy\n",
            "  \n"
          ]
        },
        {
          "output_type": "execute_result",
          "data": {
            "text/plain": [
              "                     Source - Destination  count\n",
              "29     Financial District - South Station   4626\n",
              "56     South Station - Financial District   4625\n",
              "3                    Back Bay - North End   4548\n",
              "36                   North End - Back Bay   4547\n",
              "67                      West End - Fenway   4530\n",
              "23                      Fenway - West End   4530\n",
              "32  Haymarket Square - Financial District   4506\n",
              "26  Financial District - Haymarket Square   4504\n",
              "37                North End - Beacon Hill   4446\n",
              "9                 Beacon Hill - North End   4444"
            ],
            "text/html": [
              "\n",
              "  <div id=\"df-5e02775e-4c3d-4323-8d69-869f2672af9e\">\n",
              "    <div class=\"colab-df-container\">\n",
              "      <div>\n",
              "<style scoped>\n",
              "    .dataframe tbody tr th:only-of-type {\n",
              "        vertical-align: middle;\n",
              "    }\n",
              "\n",
              "    .dataframe tbody tr th {\n",
              "        vertical-align: top;\n",
              "    }\n",
              "\n",
              "    .dataframe thead th {\n",
              "        text-align: right;\n",
              "    }\n",
              "</style>\n",
              "<table border=\"1\" class=\"dataframe\">\n",
              "  <thead>\n",
              "    <tr style=\"text-align: right;\">\n",
              "      <th></th>\n",
              "      <th>Source - Destination</th>\n",
              "      <th>count</th>\n",
              "    </tr>\n",
              "  </thead>\n",
              "  <tbody>\n",
              "    <tr>\n",
              "      <th>29</th>\n",
              "      <td>Financial District - South Station</td>\n",
              "      <td>4626</td>\n",
              "    </tr>\n",
              "    <tr>\n",
              "      <th>56</th>\n",
              "      <td>South Station - Financial District</td>\n",
              "      <td>4625</td>\n",
              "    </tr>\n",
              "    <tr>\n",
              "      <th>3</th>\n",
              "      <td>Back Bay - North End</td>\n",
              "      <td>4548</td>\n",
              "    </tr>\n",
              "    <tr>\n",
              "      <th>36</th>\n",
              "      <td>North End - Back Bay</td>\n",
              "      <td>4547</td>\n",
              "    </tr>\n",
              "    <tr>\n",
              "      <th>67</th>\n",
              "      <td>West End - Fenway</td>\n",
              "      <td>4530</td>\n",
              "    </tr>\n",
              "    <tr>\n",
              "      <th>23</th>\n",
              "      <td>Fenway - West End</td>\n",
              "      <td>4530</td>\n",
              "    </tr>\n",
              "    <tr>\n",
              "      <th>32</th>\n",
              "      <td>Haymarket Square - Financial District</td>\n",
              "      <td>4506</td>\n",
              "    </tr>\n",
              "    <tr>\n",
              "      <th>26</th>\n",
              "      <td>Financial District - Haymarket Square</td>\n",
              "      <td>4504</td>\n",
              "    </tr>\n",
              "    <tr>\n",
              "      <th>37</th>\n",
              "      <td>North End - Beacon Hill</td>\n",
              "      <td>4446</td>\n",
              "    </tr>\n",
              "    <tr>\n",
              "      <th>9</th>\n",
              "      <td>Beacon Hill - North End</td>\n",
              "      <td>4444</td>\n",
              "    </tr>\n",
              "  </tbody>\n",
              "</table>\n",
              "</div>\n",
              "      <button class=\"colab-df-convert\" onclick=\"convertToInteractive('df-5e02775e-4c3d-4323-8d69-869f2672af9e')\"\n",
              "              title=\"Convert this dataframe to an interactive table.\"\n",
              "              style=\"display:none;\">\n",
              "        \n",
              "  <svg xmlns=\"http://www.w3.org/2000/svg\" height=\"24px\"viewBox=\"0 0 24 24\"\n",
              "       width=\"24px\">\n",
              "    <path d=\"M0 0h24v24H0V0z\" fill=\"none\"/>\n",
              "    <path d=\"M18.56 5.44l.94 2.06.94-2.06 2.06-.94-2.06-.94-.94-2.06-.94 2.06-2.06.94zm-11 1L8.5 8.5l.94-2.06 2.06-.94-2.06-.94L8.5 2.5l-.94 2.06-2.06.94zm10 10l.94 2.06.94-2.06 2.06-.94-2.06-.94-.94-2.06-.94 2.06-2.06.94z\"/><path d=\"M17.41 7.96l-1.37-1.37c-.4-.4-.92-.59-1.43-.59-.52 0-1.04.2-1.43.59L10.3 9.45l-7.72 7.72c-.78.78-.78 2.05 0 2.83L4 21.41c.39.39.9.59 1.41.59.51 0 1.02-.2 1.41-.59l7.78-7.78 2.81-2.81c.8-.78.8-2.07 0-2.86zM5.41 20L4 18.59l7.72-7.72 1.47 1.35L5.41 20z\"/>\n",
              "  </svg>\n",
              "      </button>\n",
              "      \n",
              "  <style>\n",
              "    .colab-df-container {\n",
              "      display:flex;\n",
              "      flex-wrap:wrap;\n",
              "      gap: 12px;\n",
              "    }\n",
              "\n",
              "    .colab-df-convert {\n",
              "      background-color: #E8F0FE;\n",
              "      border: none;\n",
              "      border-radius: 50%;\n",
              "      cursor: pointer;\n",
              "      display: none;\n",
              "      fill: #1967D2;\n",
              "      height: 32px;\n",
              "      padding: 0 0 0 0;\n",
              "      width: 32px;\n",
              "    }\n",
              "\n",
              "    .colab-df-convert:hover {\n",
              "      background-color: #E2EBFA;\n",
              "      box-shadow: 0px 1px 2px rgba(60, 64, 67, 0.3), 0px 1px 3px 1px rgba(60, 64, 67, 0.15);\n",
              "      fill: #174EA6;\n",
              "    }\n",
              "\n",
              "    [theme=dark] .colab-df-convert {\n",
              "      background-color: #3B4455;\n",
              "      fill: #D2E3FC;\n",
              "    }\n",
              "\n",
              "    [theme=dark] .colab-df-convert:hover {\n",
              "      background-color: #434B5C;\n",
              "      box-shadow: 0px 1px 3px 1px rgba(0, 0, 0, 0.15);\n",
              "      filter: drop-shadow(0px 1px 2px rgba(0, 0, 0, 0.3));\n",
              "      fill: #FFFFFF;\n",
              "    }\n",
              "  </style>\n",
              "\n",
              "      <script>\n",
              "        const buttonEl =\n",
              "          document.querySelector('#df-5e02775e-4c3d-4323-8d69-869f2672af9e button.colab-df-convert');\n",
              "        buttonEl.style.display =\n",
              "          google.colab.kernel.accessAllowed ? 'block' : 'none';\n",
              "\n",
              "        async function convertToInteractive(key) {\n",
              "          const element = document.querySelector('#df-5e02775e-4c3d-4323-8d69-869f2672af9e');\n",
              "          const dataTable =\n",
              "            await google.colab.kernel.invokeFunction('convertToInteractive',\n",
              "                                                     [key], {});\n",
              "          if (!dataTable) return;\n",
              "\n",
              "          const docLinkHtml = 'Like what you see? Visit the ' +\n",
              "            '<a target=\"_blank\" href=https://colab.research.google.com/notebooks/data_table.ipynb>data table notebook</a>'\n",
              "            + ' to learn more about interactive tables.';\n",
              "          element.innerHTML = '';\n",
              "          dataTable['output_type'] = 'display_data';\n",
              "          await google.colab.output.renderOutput(dataTable, element);\n",
              "          const docLink = document.createElement('div');\n",
              "          docLink.innerHTML = docLinkHtml;\n",
              "          element.appendChild(docLink);\n",
              "        }\n",
              "      </script>\n",
              "    </div>\n",
              "  </div>\n",
              "  "
            ]
          },
          "metadata": {},
          "execution_count": 31
        }
      ]
    },
    {
      "cell_type": "markdown",
      "source": [
        "#### Times with the high surges"
      ],
      "metadata": {
        "id": "ixUzHgyhzRQm"
      }
    },
    {
      "cell_type": "code",
      "source": [
        "#Determining the times with high surges\n",
        "#grouping by hour and plotting the hour on the x axis and surge multiplier on the y axis\n",
        "fig , ax = plt.subplots(figsize= (12,12))\n",
        "ax.plot(high_surge_trip[high_surge_trip['cab_type'] == 'Lyft'].groupby('Hour').Hour.count().index, high_surge_trip[high_surge_trip['cab_type'] == 'Lyft'].groupby('Hour').surge_multiplier.mean(), label = 'Lyft')\n",
        "ax.plot(high_surge_trip[high_surge_trip['cab_type'] == 'Uber'].groupby('Hour').Hour.count().index, high_surge_trip[high_surge_trip['cab_type'] =='Uber'].groupby('Hour').surge_multiplier.mean(), label = 'Uber')\n",
        "ax.legend()\n",
        "ax.set(xlabel = 'Hours', ylabel = 'Average Surge Multiplier')\n",
        "plt.xticks(range(0,24,1))\n",
        "plt.show()"
      ],
      "metadata": {
        "colab": {
          "base_uri": "https://localhost:8080/",
          "height": 718
        },
        "id": "xfsB1Iduyy7X",
        "outputId": "88b58f0d-2265-4167-cd90-9aa47aba1b95"
      },
      "execution_count": null,
      "outputs": [
        {
          "output_type": "display_data",
          "data": {
            "text/plain": [
              "<Figure size 864x864 with 1 Axes>"
            ],
            "image/png": "[encoded data removed]"
          },
          "metadata": {
            "needs_background": "light"
          }
        }
      ]
    },
    {
      "cell_type": "markdown",
      "source": [
        "Only Lyft has surge prices, and \n",
        "Surge prices are highest at 7AM"
      ],
      "metadata": {
        "id": "sxn298kWzbml"
      }
    },
    {
      "cell_type": "markdown",
      "source": [
        "#### Determining the Commonest Rides"
      ],
      "metadata": {
        "id": "3Hm-zYuqP3PD"
      }
    },
    {
      "cell_type": "code",
      "source": [
        "# Looking at separation between Uber and Lyft Cabs\n",
        "df_rides[\"cab_type\"].value_counts()"
      ],
      "metadata": {
        "colab": {
          "base_uri": "https://localhost:8080/"
        },
        "id": "ExzIIYUWP6pv",
        "outputId": "d51a1387-94f1-4614-d621-06cacd6b3103"
      },
      "execution_count": null,
      "outputs": [
        {
          "output_type": "execute_result",
          "data": {
            "text/plain": [
              "Uber    330518\n",
              "Lyft    307387\n",
              "Name: cab_type, dtype: int64"
            ]
          },
          "metadata": {},
          "execution_count": 33
        }
      ]
    },
    {
      "cell_type": "code",
      "source": [
        "#Determining the Commonest Cab rides for Lyft\n",
        "lyft_df[\"name\"].value_counts()"
      ],
      "metadata": {
        "colab": {
          "base_uri": "https://localhost:8080/"
        },
        "id": "bvK6zGRKQoNE",
        "outputId": "274c9855-b64f-4d11-bce3-4506a8667082"
      },
      "execution_count": null,
      "outputs": [
        {
          "output_type": "execute_result",
          "data": {
            "text/plain": [
              "Shared          51233\n",
              "Lux             51232\n",
              "Lux Black XL    51231\n",
              "Lyft XL         51231\n",
              "Lux Black       51231\n",
              "Lyft            51229\n",
              "Name: name, dtype: int64"
            ]
          },
          "metadata": {},
          "execution_count": 34
        }
      ]
    },
    {
      "cell_type": "code",
      "source": [
        "#Determining the Commonest Cab rides for Uber\n",
        "uber_df[\"name\"].value_counts()"
      ],
      "metadata": {
        "colab": {
          "base_uri": "https://localhost:8080/"
        },
        "id": "5S1lnDP1Qt8Y",
        "outputId": "0d11e657-ae49-492e-cf73-16a45a6ed2cc"
      },
      "execution_count": null,
      "outputs": [
        {
          "output_type": "execute_result",
          "data": {
            "text/plain": [
              "UberX        55088\n",
              "Black SUV    55088\n",
              "UberXL       55086\n",
              "WAV          55086\n",
              "Black        55085\n",
              "UberPool     55085\n",
              "Name: name, dtype: int64"
            ]
          },
          "metadata": {},
          "execution_count": 35
        }
      ]
    },
    {
      "cell_type": "markdown",
      "source": [
        "#### Shared Rides"
      ],
      "metadata": {
        "id": "fpqfVjboQ00o"
      }
    },
    {
      "cell_type": "code",
      "source": [
        "# From Data above, we see that Lyft has Shared rides, so we can determine what time of day these are common\n",
        "lyft_shared_rides_df = lyft_df[lyft_df[\"name\"] == \"Shared\"]\n",
        "lyft_shared_rides_df = lyft_shared_rides_df.groupby([\"name\", \"Hour\"]).size().reset_index()\n",
        "lyft_shared_rides_df.columns = [\"Name\", \"Time of Day\", \"Count\"]\n",
        "plt.figure(figsize=(15, 5))\n",
        "sns.barplot(y=\"Time of Day\", x=\"Count\", data=lyft_shared_rides_df, palette=\"Blues_d\", orient ='h').set_title(\"Lyft shared Rides at Time of Day\");"
      ],
      "metadata": {
        "colab": {
          "base_uri": "https://localhost:8080/",
          "height": 350
        },
        "id": "Ox3s3wqnQ6fH",
        "outputId": "846b7e34-95ba-4262-95f7-a72a8f0d316c"
      },
      "execution_count": null,
      "outputs": [
        {
          "output_type": "display_data",
          "data": {
            "text/plain": [
              "<Figure size 1080x360 with 1 Axes>"
            ],
            "image/png": "[encoded data removed]"
          },
          "metadata": {
            "needs_background": "light"
          }
        }
      ]
    },
    {
      "cell_type": "code",
      "source": [
        "# From Data above, we see that Uber has Pooled rides, so we can determine what time of day these are common\n",
        "uber_shared_rides_df = uber_df[uber_df[\"name\"] == \"UberPool\"]\n",
        "uber_shared_rides_df = uber_shared_rides_df.groupby([\"name\", \"Hour\"]).size().reset_index()\n",
        "uber_shared_rides_df.columns = [\"Name\", \"Time of Day\", \"Count\"]\n",
        "plt.figure(figsize=(15, 5))\n",
        "sns.barplot(y=\"Time of Day\", x=\"Count\", data=uber_shared_rides_df, palette=\"Blues_d\", orient ='h').set_title(\"Uber shared Rides at Time of Day\");"
      ],
      "metadata": {
        "colab": {
          "base_uri": "https://localhost:8080/",
          "height": 350
        },
        "id": "v0a2pKYxsl29",
        "outputId": "ad5aea48-daee-45b0-fb1a-7f474b3ae12a"
      },
      "execution_count": null,
      "outputs": [
        {
          "output_type": "display_data",
          "data": {
            "text/plain": [
              "<Figure size 1080x360 with 1 Axes>"
            ],
            "image/png": "[encoded data removed]"
          },
          "metadata": {
            "needs_background": "light"
          }
        }
      ]
    },
    {
      "cell_type": "markdown",
      "source": [
        "**Conclusions.**"
      ],
      "metadata": {
        "id": "K2SQanHSctUY"
      }
    },
    {
      "cell_type": "markdown",
      "source": [
        "\n",
        "\n",
        "*   The days with the most rides ordered are Mondays and Tuesdays (Tuesdays are the highest), while the day with the least is Wednesdays for both Uber and Lyft.\n",
        "*   Rides are most often requested around midnight, and during the day the most active hours are between 10 am and 6 pm.\n",
        "\n",
        "\n",
        "*   Rides are most often requested around midnight, and during the day the most active hours are between 10 am and 6 pm.\n",
        "*   Only Lyft has surge prices, and surge prices are highest at 7AM. There are also peaks at 9am and 11 am. The lowest effect of the surge multiplier is at 6am. It is also low at 10am.\n",
        "\n",
        "*   The route with the highest surge is  from Theatre District to South station \n",
        "*   The route with the least surge is from Haymarket Square to Beacon Hill\n",
        "\n",
        "\n",
        "\n",
        "\n",
        "\n",
        "\n",
        "\n",
        "\n",
        "\n",
        "\n",
        "\n",
        "\n",
        "\n"
      ],
      "metadata": {
        "id": "A4dOalQZc01r"
      }
    },
    {
      "cell_type": "markdown",
      "source": [
        "**Recommendations.**"
      ],
      "metadata": {
        "id": "GLCPI1NrbE_X"
      }
    },
    {
      "cell_type": "markdown",
      "source": [
        "\n",
        "\n",
        "\n",
        "\n",
        "*   Uber was determined to be the cheaper option overall. Additionally, varying times did not trigger an increase in the value of the surge multiplier unlike Lyft. We therefore recommend Uber overall as the more affordable choice.\n",
        "*    If using a Lyft, we recommend doing so at 6 am or 10am, as the value of the surge multiplier is low therefore the prices will be more friendly. At 7am, 9am, and 11am,  the value of the surge multiplier is quite high so we would advise not to take a Lyft particularly at these times.\n",
        "*  Riders using Lyft on the Theatre District to South Station route should commute with caution since this is the route with the highest surge.\n",
        "\n",
        "\n",
        "\n",
        "\n",
        "\n",
        "\n",
        "\n"
      ],
      "metadata": {
        "id": "wCWhiUAJbbgs"
      }
    }
  ]
}